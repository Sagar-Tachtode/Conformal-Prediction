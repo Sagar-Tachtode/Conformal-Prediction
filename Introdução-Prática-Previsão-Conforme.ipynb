{
 "cells": [
  {
   "attachments": {},
   "cell_type": "markdown",
   "metadata": {},
   "source": [
    "## Introdução Prática à Previsão Conforme\n",
    "\n",
    "Previsão Conforme (em inglês Conformal Prediction) é um método que transforma as previsões pontuais em conjuntos de previsões. Dessa forma, fornece previsões associadas à um nível de confiança estatística, permitindo que sejam medidos e controlados os riscos de uma previsão estar errada.\n"
   ]
  },
  {
   "attachments": {},
   "cell_type": "markdown",
   "metadata": {},
   "source": [
    "### Importar Libs"
   ]
  },
  {
   "cell_type": "code",
   "execution_count": 1,
   "metadata": {},
   "outputs": [],
   "source": [
    "#!pip install -U numpy"
   ]
  },
  {
   "cell_type": "code",
   "execution_count": 2,
   "metadata": {},
   "outputs": [],
   "source": [
    "#!pip install mapie -use-deprecated=legacy-resolver"
   ]
  },
  {
   "cell_type": "code",
   "execution_count": 3,
   "metadata": {},
   "outputs": [],
   "source": [
    "import warnings\n",
    "warnings.filterwarnings(\"ignore\")\n",
    "\n",
    "import os\n",
    "import wget\n",
    "import zipfile\n",
    "from os.path import exists\n",
    "\n",
    "import pandas as pd\n",
    "import numpy as np\n",
    "pd.set_option('display.float_format', lambda x: '%.3f' % x)\n",
    "pd.options.display.max_rows=50\n",
    "\n",
    "import matplotlib.pyplot as plt\n",
    "from matplotlib import style\n",
    "import seaborn as sns\n",
    "style.use(\"fivethirtyeight\")\n",
    "\n",
    "from sklearn.model_selection import train_test_split\n",
    "from sklearn.preprocessing import LabelEncoder\n",
    "from sklearn.naive_bayes import GaussianNB\n",
    "from sklearn.metrics import confusion_matrix\n",
    "\n",
    "from mapie.classification import MapieClassifier"
   ]
  },
  {
   "attachments": {},
   "cell_type": "markdown",
   "metadata": {},
   "source": [
    "### Download Dataset"
   ]
  },
  {
   "cell_type": "code",
   "execution_count": 4,
   "metadata": {},
   "outputs": [],
   "source": [
    "bean_data_file = \"./DryBeanDataset/Dry_Bean_Dataset.xlsx\"\n",
    "base = \"https://archive.ics.uci.edu/ml/machine-learning-databases/\"\n",
    "dataset_number = \"00602\"\n",
    "filename = \"DryBeanDataset.zip\"\n",
    "url = base + dataset_number + \"/\" + filename\n",
    "wget.download(url)\n",
    "zipfile.ZipFile(filename, 'r') .extractall('./')\n",
    "os.remove(filename)"
   ]
  },
  {
   "attachments": {},
   "cell_type": "markdown",
   "metadata": {},
   "source": [
    "### Importar Dataset"
   ]
  },
  {
   "cell_type": "code",
   "execution_count": 5,
   "metadata": {},
   "outputs": [],
   "source": [
    "bean_data_file = \"./DryBeanDataset/Dry_Bean_Dataset.xlsx\"\n",
    "beans = pd.read_excel(bean_data_file)"
   ]
  },
  {
   "cell_type": "code",
   "execution_count": 6,
   "metadata": {},
   "outputs": [
    {
     "data": {
      "text/html": [
       "<div>\n",
       "<style scoped>\n",
       "    .dataframe tbody tr th:only-of-type {\n",
       "        vertical-align: middle;\n",
       "    }\n",
       "\n",
       "    .dataframe tbody tr th {\n",
       "        vertical-align: top;\n",
       "    }\n",
       "\n",
       "    .dataframe thead th {\n",
       "        text-align: right;\n",
       "    }\n",
       "</style>\n",
       "<table border=\"1\" class=\"dataframe\">\n",
       "  <thead>\n",
       "    <tr style=\"text-align: right;\">\n",
       "      <th></th>\n",
       "      <th>Area</th>\n",
       "      <th>Perimeter</th>\n",
       "      <th>MajorAxisLength</th>\n",
       "      <th>MinorAxisLength</th>\n",
       "      <th>AspectRation</th>\n",
       "      <th>Eccentricity</th>\n",
       "      <th>ConvexArea</th>\n",
       "      <th>EquivDiameter</th>\n",
       "      <th>Extent</th>\n",
       "      <th>Solidity</th>\n",
       "      <th>roundness</th>\n",
       "      <th>Compactness</th>\n",
       "      <th>ShapeFactor1</th>\n",
       "      <th>ShapeFactor2</th>\n",
       "      <th>ShapeFactor3</th>\n",
       "      <th>ShapeFactor4</th>\n",
       "      <th>Class</th>\n",
       "    </tr>\n",
       "  </thead>\n",
       "  <tbody>\n",
       "    <tr>\n",
       "      <th>0</th>\n",
       "      <td>28395</td>\n",
       "      <td>610.291</td>\n",
       "      <td>208.178</td>\n",
       "      <td>173.889</td>\n",
       "      <td>1.197</td>\n",
       "      <td>0.550</td>\n",
       "      <td>28715</td>\n",
       "      <td>190.141</td>\n",
       "      <td>0.764</td>\n",
       "      <td>0.989</td>\n",
       "      <td>0.958</td>\n",
       "      <td>0.913</td>\n",
       "      <td>0.007</td>\n",
       "      <td>0.003</td>\n",
       "      <td>0.834</td>\n",
       "      <td>0.999</td>\n",
       "      <td>SEKER</td>\n",
       "    </tr>\n",
       "    <tr>\n",
       "      <th>1</th>\n",
       "      <td>28734</td>\n",
       "      <td>638.018</td>\n",
       "      <td>200.525</td>\n",
       "      <td>182.734</td>\n",
       "      <td>1.097</td>\n",
       "      <td>0.412</td>\n",
       "      <td>29172</td>\n",
       "      <td>191.273</td>\n",
       "      <td>0.784</td>\n",
       "      <td>0.985</td>\n",
       "      <td>0.887</td>\n",
       "      <td>0.954</td>\n",
       "      <td>0.007</td>\n",
       "      <td>0.004</td>\n",
       "      <td>0.910</td>\n",
       "      <td>0.998</td>\n",
       "      <td>SEKER</td>\n",
       "    </tr>\n",
       "    <tr>\n",
       "      <th>2</th>\n",
       "      <td>29380</td>\n",
       "      <td>624.110</td>\n",
       "      <td>212.826</td>\n",
       "      <td>175.931</td>\n",
       "      <td>1.210</td>\n",
       "      <td>0.563</td>\n",
       "      <td>29690</td>\n",
       "      <td>193.411</td>\n",
       "      <td>0.778</td>\n",
       "      <td>0.990</td>\n",
       "      <td>0.948</td>\n",
       "      <td>0.909</td>\n",
       "      <td>0.007</td>\n",
       "      <td>0.003</td>\n",
       "      <td>0.826</td>\n",
       "      <td>0.999</td>\n",
       "      <td>SEKER</td>\n",
       "    </tr>\n",
       "    <tr>\n",
       "      <th>3</th>\n",
       "      <td>30008</td>\n",
       "      <td>645.884</td>\n",
       "      <td>210.558</td>\n",
       "      <td>182.517</td>\n",
       "      <td>1.154</td>\n",
       "      <td>0.499</td>\n",
       "      <td>30724</td>\n",
       "      <td>195.467</td>\n",
       "      <td>0.783</td>\n",
       "      <td>0.977</td>\n",
       "      <td>0.904</td>\n",
       "      <td>0.928</td>\n",
       "      <td>0.007</td>\n",
       "      <td>0.003</td>\n",
       "      <td>0.862</td>\n",
       "      <td>0.994</td>\n",
       "      <td>SEKER</td>\n",
       "    </tr>\n",
       "    <tr>\n",
       "      <th>4</th>\n",
       "      <td>30140</td>\n",
       "      <td>620.134</td>\n",
       "      <td>201.848</td>\n",
       "      <td>190.279</td>\n",
       "      <td>1.061</td>\n",
       "      <td>0.334</td>\n",
       "      <td>30417</td>\n",
       "      <td>195.897</td>\n",
       "      <td>0.773</td>\n",
       "      <td>0.991</td>\n",
       "      <td>0.985</td>\n",
       "      <td>0.971</td>\n",
       "      <td>0.007</td>\n",
       "      <td>0.004</td>\n",
       "      <td>0.942</td>\n",
       "      <td>0.999</td>\n",
       "      <td>SEKER</td>\n",
       "    </tr>\n",
       "  </tbody>\n",
       "</table>\n",
       "</div>"
      ],
      "text/plain": [
       "    Area  Perimeter  MajorAxisLength  MinorAxisLength  AspectRation  \\\n",
       "0  28395    610.291          208.178          173.889         1.197   \n",
       "1  28734    638.018          200.525          182.734         1.097   \n",
       "2  29380    624.110          212.826          175.931         1.210   \n",
       "3  30008    645.884          210.558          182.517         1.154   \n",
       "4  30140    620.134          201.848          190.279         1.061   \n",
       "\n",
       "   Eccentricity  ConvexArea  EquivDiameter  Extent  Solidity  roundness  \\\n",
       "0         0.550       28715        190.141   0.764     0.989      0.958   \n",
       "1         0.412       29172        191.273   0.784     0.985      0.887   \n",
       "2         0.563       29690        193.411   0.778     0.990      0.948   \n",
       "3         0.499       30724        195.467   0.783     0.977      0.904   \n",
       "4         0.334       30417        195.897   0.773     0.991      0.985   \n",
       "\n",
       "   Compactness  ShapeFactor1  ShapeFactor2  ShapeFactor3  ShapeFactor4  Class  \n",
       "0        0.913         0.007         0.003         0.834         0.999  SEKER  \n",
       "1        0.954         0.007         0.004         0.910         0.998  SEKER  \n",
       "2        0.909         0.007         0.003         0.826         0.999  SEKER  \n",
       "3        0.928         0.007         0.003         0.862         0.994  SEKER  \n",
       "4        0.971         0.007         0.004         0.942         0.999  SEKER  "
      ]
     },
     "execution_count": 6,
     "metadata": {},
     "output_type": "execute_result"
    }
   ],
   "source": [
    "beans.head()"
   ]
  },
  {
   "attachments": {},
   "cell_type": "markdown",
   "metadata": {},
   "source": [
    "### Pre-Process and Train Model"
   ]
  },
  {
   "cell_type": "code",
   "execution_count": 7,
   "metadata": {},
   "outputs": [],
   "source": [
    "# Labels are characters but should be integers for sklearn\n",
    "le = LabelEncoder()\n",
    "beans[\"Class\"] = le.fit_transform(beans[\"Class\"])\n",
    "\n",
    "# Split data into classification target and features\n",
    "y = beans[\"Class\"]\n",
    "X = beans.drop(\"Class\", axis = 1)\n",
    "\n",
    "# Split of training data\n",
    "X_train, X_rest1, y_train, y_rest1 = train_test_split(X, y, train_size=10000, random_state=2)\n",
    "\n",
    "# From the remaining data, split of test data\n",
    "X_test, X_rest2, y_test, y_rest2 = train_test_split(X_rest1, y_rest1, train_size=1000, random_state=42)\n",
    "\n",
    "# Split remaining into calibration and \"new\" data\n",
    "X_calib, X_new, y_calib, y_new = train_test_split(X_rest2, y_rest2, train_size=1000, random_state=42)\n",
    "\n",
    "# Fit the model\n",
    "model = GaussianNB().fit(X_train, y_train)"
   ]
  },
  {
   "attachments": {},
   "cell_type": "markdown",
   "metadata": {},
   "source": [
    "### Model Evaluation"
   ]
  },
  {
   "cell_type": "code",
   "execution_count": 8,
   "metadata": {},
   "outputs": [
    {
     "name": "stdout",
     "output_type": "stream",
     "text": [
      "Accuracy: 0.758\n",
      "          BARBUNYA  BOMBAY  CALI  DERMASON  HOROZ  SEKER  SIRA\n",
      "BARBUNYA        46       0    47         0      6      0     4\n",
      "BOMBAY           0      33     0         0      0      0     0\n",
      "CALI            20       0    81         0      3      0     0\n",
      "DERMASON         0       0     0       223      0     32     9\n",
      "HOROZ            0       0     4         3    104      0    22\n",
      "SEKER            2       0     0        26      1    127    22\n",
      "SIRA             0       0     0        10     10     21   144\n"
     ]
    }
   ],
   "source": [
    "# Check accuracy\n",
    "y_pred = model.predict(X_test)\n",
    "print(\"Accuracy:\", (y_pred == y_test).mean())\n",
    "\n",
    "# Create the confusion matrix\n",
    "cm = confusion_matrix(y_test, y_pred)\n",
    "print(pd.DataFrame(cm, index=le.classes_, columns=le.classes_))"
   ]
  },
  {
   "attachments": {},
   "cell_type": "markdown",
   "metadata": {},
   "source": [
    "### Model Calibration - Naive Approach"
   ]
  },
  {
   "cell_type": "code",
   "execution_count": 9,
   "metadata": {},
   "outputs": [
    {
     "name": "stdout",
     "output_type": "stream",
     "text": [
      "0.896\n"
     ]
    }
   ],
   "source": [
    "#Get the \"probabilities\" from the model\n",
    "predictions = model.predict_proba(X_calib)\n",
    "\n",
    "# Get for each instance the highest probability\n",
    "high_prob_predictions = np.amax(predictions, axis=1)\n",
    "\n",
    "# Select the predictions where probability over 99%\n",
    "high_p_beans = np.where(high_prob_predictions >= 0.95)\n",
    "\n",
    "# Let's count how often we hit the right label\n",
    "its_a_match = (model.predict(X_calib) == y_calib)\n",
    "coverage = np.mean(its_a_match.values[high_p_beans])\n",
    "print(round(coverage, 3))"
   ]
  },
  {
   "attachments": {},
   "cell_type": "markdown",
   "metadata": {},
   "source": [
    "### Model Calibration - Conformal Classification"
   ]
  },
  {
   "cell_type": "code",
   "execution_count": 10,
   "metadata": {},
   "outputs": [
    {
     "data": {
      "image/png": "[encoded data removed]",
      "text/plain": [
       "<Figure size 1008x576 with 1 Axes>"
      ]
     },
     "metadata": {
      "needs_background": "light"
     },
     "output_type": "display_data"
    }
   ],
   "source": [
    "# Size of calibration data\n",
    "n = len(X_calib)\n",
    "\n",
    "# Get the probability predictions\n",
    "predictions = model.predict_proba(X_calib)\n",
    "\n",
    "# We only need the probability for the true class\n",
    "prob_true_class = predictions[np.arange(n),y_calib]\n",
    "\n",
    "# Turn into uncertainty score (larger means more uncertain)\n",
    "scores = 1 - prob_true_class\n",
    "\n",
    "# Setting the alpha so that we get 95% prediction sets\n",
    "alpha = 0.05\n",
    "\n",
    "# define quantile\n",
    "q_level = np.ceil((n+1)*(1-alpha))/n\n",
    "qhat = np.quantile(scores, q_level)\n",
    "\n",
    "# Get the \"probabilities\" from the model\n",
    "predictions = model.predict_proba(X_calib)\n",
    "\n",
    "# Get for each instance the actual probability of ground truth\n",
    "prob_for_true_class = predictions[np.arange(len(y_calib)),y_calib]\n",
    "\n",
    "# Create a histogram\n",
    "fig, axs = plt.subplots(figsize=(14, 8))\n",
    "plt.hist(1 - prob_for_true_class, bins=30, range=(0, 1))\n",
    "plt.xlabel(\"1 - s(y,x)\")\n",
    "plt.ylabel(\"Frequency\")\n",
    "plt.title(\"Non-Conformity Score\")\n",
    "plt.show()"
   ]
  },
  {
   "attachments": {},
   "cell_type": "markdown",
   "metadata": {},
   "source": [
    "### Model Calibration - Conformal Classification - Prediction Sets"
   ]
  },
  {
   "cell_type": "code",
   "execution_count": 11,
   "metadata": {},
   "outputs": [
    {
     "name": "stdout",
     "output_type": "stream",
     "text": [
      "['DERMASON']\n",
      "['DERMASON']\n",
      "['DERMASON' 'SEKER']\n"
     ]
    }
   ],
   "source": [
    "prediction_sets = (1 - model.predict_proba(X_new) <= qhat)\n",
    "for i in range(3):\n",
    "    print(le.classes_[prediction_sets[i]])"
   ]
  },
  {
   "attachments": {},
   "cell_type": "markdown",
   "metadata": {},
   "source": [
    "### Model Calibration - Conformal Classification - MAPIE"
   ]
  },
  {
   "cell_type": "code",
   "execution_count": 12,
   "metadata": {},
   "outputs": [],
   "source": [
    "cp = MapieClassifier(estimator=model, cv=\"prefit\", method=\"score\")\n",
    "cp.fit(X_calib, y_calib)\n",
    "y_pred, y_set = cp.predict(X_new, alpha=0.05)"
   ]
  },
  {
   "cell_type": "code",
   "execution_count": 13,
   "metadata": {},
   "outputs": [
    {
     "name": "stdout",
     "output_type": "stream",
     "text": [
      "['DERMASON']\n",
      "['DERMASON']\n",
      "['DERMASON' 'SEKER']\n",
      "['DERMASON']\n",
      "['DERMASON' 'SEKER']\n"
     ]
    }
   ],
   "source": [
    "y_set = np.squeeze(y_set)\n",
    "\n",
    "for i in range(5):\n",
    "    print(le.classes_[y_set[i]])"
   ]
  },
  {
   "cell_type": "code",
   "execution_count": 14,
   "metadata": {},
   "outputs": [
    {
     "name": "stdout",
     "output_type": "stream",
     "text": [
      "2    871\n",
      "1    506\n",
      "3    233\n",
      "4      1\n",
      "dtype: int64\n"
     ]
    }
   ],
   "source": [
    "# first count number of classes per bean\n",
    "set_sizes = y_set.sum(axis=1)\n",
    "\n",
    "# use pandas to compute how often each size occurs\n",
    "print(pd.Series(set_sizes).value_counts())"
   ]
  },
  {
   "cell_type": "code",
   "execution_count": 15,
   "metadata": {},
   "outputs": [
    {
     "name": "stdout",
     "output_type": "stream",
     "text": [
      "3    780\n",
      "2    372\n",
      "4    236\n",
      "1    222\n",
      "5      1\n",
      "dtype: int64\n"
     ]
    }
   ],
   "source": [
    "y_pred, y_set = cp.predict(X_new, alpha=0.01)\n",
    "\n",
    "# remove the 1-dim dimension\n",
    "y_set = np.squeeze(y_set)\n",
    "\n",
    "# first count number of classes per bean\n",
    "set_sizes = y_set.sum(axis=1)\n",
    "\n",
    "# use pandas to compute how often each size occurs\n",
    "print(pd.Series(set_sizes).value_counts())"
   ]
  },
  {
   "cell_type": "code",
   "execution_count": 16,
   "metadata": {},
   "outputs": [
    {
     "name": "stdout",
     "output_type": "stream",
     "text": [
      "['HOROZ' 'SIRA']\n"
     ]
    }
   ],
   "source": [
    "y_pred, y_set = cp.predict(X_new, alpha=[0.1, 0.05])\n",
    "\n",
    "# get prediction sets for 10th observation and second alpha (0.05)\n",
    "print(le.classes_[y_set[10,:,1]])"
   ]
  },
  {
   "cell_type": "code",
   "execution_count": 17,
   "metadata": {},
   "outputs": [
    {
     "data": {
      "text/html": [
       "<div>\n",
       "<style scoped>\n",
       "    .dataframe tbody tr th:only-of-type {\n",
       "        vertical-align: middle;\n",
       "    }\n",
       "\n",
       "    .dataframe tbody tr th {\n",
       "        vertical-align: top;\n",
       "    }\n",
       "\n",
       "    .dataframe thead th {\n",
       "        text-align: right;\n",
       "    }\n",
       "</style>\n",
       "<table border=\"1\" class=\"dataframe\">\n",
       "  <thead>\n",
       "    <tr style=\"text-align: right;\">\n",
       "      <th></th>\n",
       "      <th>set</th>\n",
       "      <th>setsize</th>\n",
       "    </tr>\n",
       "  </thead>\n",
       "  <tbody>\n",
       "    <tr>\n",
       "      <th>0</th>\n",
       "      <td>[DERMASON]</td>\n",
       "      <td>1</td>\n",
       "    </tr>\n",
       "    <tr>\n",
       "      <th>1</th>\n",
       "      <td>[DERMASON]</td>\n",
       "      <td>1</td>\n",
       "    </tr>\n",
       "    <tr>\n",
       "      <th>2</th>\n",
       "      <td>[DERMASON, SEKER]</td>\n",
       "      <td>2</td>\n",
       "    </tr>\n",
       "    <tr>\n",
       "      <th>3</th>\n",
       "      <td>[DERMASON]</td>\n",
       "      <td>1</td>\n",
       "    </tr>\n",
       "    <tr>\n",
       "      <th>4</th>\n",
       "      <td>[DERMASON, SEKER]</td>\n",
       "      <td>2</td>\n",
       "    </tr>\n",
       "  </tbody>\n",
       "</table>\n",
       "</div>"
      ],
      "text/plain": [
       "                 set  setsize\n",
       "0         [DERMASON]        1\n",
       "1         [DERMASON]        1\n",
       "2  [DERMASON, SEKER]        2\n",
       "3         [DERMASON]        1\n",
       "4  [DERMASON, SEKER]        2"
      ]
     },
     "execution_count": 17,
     "metadata": {},
     "output_type": "execute_result"
    }
   ],
   "source": [
    "y_pred, y_set = cp.predict(X_new, alpha=0.05)\n",
    "y_set = np.squeeze(y_set)\n",
    "df = pd.DataFrame()\n",
    "\n",
    "for i in range(len(y_pred)):\n",
    "    predset = le.classes_[y_set[i]]\n",
    "    \n",
    "    # Create a new dataframe with the calculated values\n",
    "    temp_df = pd.DataFrame({\n",
    "        \"set\": [predset],\n",
    "        \"setsize\": [len(predset)]\n",
    "        },\n",
    "        index=[i])\n",
    "    \n",
    "    # Concatenate the new dataframe with the existing one\n",
    "    df = pd.concat([df, temp_df])\n",
    "    \n",
    "df.head()"
   ]
  },
  {
   "cell_type": "code",
   "execution_count": null,
   "metadata": {},
   "outputs": [],
   "source": []
  }
 ],
 "metadata": {
  "kernelspec": {
   "display_name": "base",
   "language": "python",
   "name": "python3"
  },
  "language_info": {
   "codemirror_mode": {
    "name": "ipython",
    "version": 3
   },
   "file_extension": ".py",
   "mimetype": "text/x-python",
   "name": "python",
   "nbconvert_exporter": "python",
   "pygments_lexer": "ipython3",
   "version": "3.9.7"
  },
  "orig_nbformat": 4,
  "vscode": {
   "interpreter": {
    "hash": "a63dbfce567fe45cf0ad99c7fc02df65ff5753f7718eaa046a5ef4c1827daabc"
   }
  }
 },
 "nbformat": 4,
 "nbformat_minor": 2
}
