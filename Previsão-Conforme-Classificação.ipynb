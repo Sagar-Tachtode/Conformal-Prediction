{
 "cells": [
  {
   "attachments": {},
   "cell_type": "markdown",
   "metadata": {},
   "source": [
    "## Introdução Prática à Previsão Conforme\n",
    "\n",
    "Previsão Conforme (em inglês Conformal Prediction) é um método que transforma as previsões pontuais em conjuntos de previsões. Dessa forma, fornece previsões associadas à um nível de confiança estatística, permitindo que sejam medidos e controlados os riscos de uma previsão estar errada.\n"
   ]
  },
  {
   "attachments": {},
   "cell_type": "markdown",
   "metadata": {},
   "source": [
    "### Importar Libs"
   ]
  },
  {
   "cell_type": "code",
   "execution_count": 24,
   "metadata": {},
   "outputs": [],
   "source": [
    "#!pip install -U numpy"
   ]
  },
  {
   "cell_type": "code",
   "execution_count": 25,
   "metadata": {},
   "outputs": [],
   "source": [
    "#!pip install mapie -use-deprecated=legacy-resolver"
   ]
  },
  {
   "cell_type": "code",
   "execution_count": 26,
   "metadata": {},
   "outputs": [],
   "source": [
    "import warnings\n",
    "warnings.filterwarnings(\"ignore\")\n",
    "\n",
    "import os\n",
    "import wget\n",
    "import zipfile\n",
    "from os.path import exists\n",
    "\n",
    "import pandas as pd\n",
    "import numpy as np\n",
    "pd.set_option('display.float_format', lambda x: '%.3f' % x)\n",
    "pd.options.display.max_rows=50\n",
    "\n",
    "import matplotlib.pyplot as plt\n",
    "from matplotlib import style\n",
    "import seaborn as sns\n",
    "style.use(\"fivethirtyeight\")\n",
    "\n",
    "from sklearn.model_selection import train_test_split\n",
    "from sklearn.preprocessing import LabelEncoder\n",
    "from sklearn.naive_bayes import GaussianNB\n",
    "from sklearn.metrics import confusion_matrix\n",
    "\n",
    "from mapie.classification import MapieClassifier\n",
    "from mapie.metrics import classification_coverage_score\n",
    "from mapie.metrics import classification_mean_width_score"
   ]
  },
  {
   "attachments": {},
   "cell_type": "markdown",
   "metadata": {},
   "source": [
    "### Download Dataset"
   ]
  },
  {
   "cell_type": "code",
   "execution_count": 27,
   "metadata": {},
   "outputs": [],
   "source": [
    "bean_data_file = \"./DryBeanDataset/Dry_Bean_Dataset.xlsx\"\n",
    "base = \"https://archive.ics.uci.edu/ml/machine-learning-databases/\"\n",
    "dataset_number = \"00602\"\n",
    "filename = \"DryBeanDataset.zip\"\n",
    "url = base + dataset_number + \"/\" + filename\n",
    "wget.download(url)\n",
    "zipfile.ZipFile(filename, 'r') .extractall('./')\n",
    "os.remove(filename)"
   ]
  },
  {
   "attachments": {},
   "cell_type": "markdown",
   "metadata": {},
   "source": [
    "### Importar Dataset"
   ]
  },
  {
   "cell_type": "code",
   "execution_count": 28,
   "metadata": {},
   "outputs": [],
   "source": [
    "bean_data_file = \"./DryBeanDataset/Dry_Bean_Dataset.xlsx\"\n",
    "beans = pd.read_excel(bean_data_file)"
   ]
  },
  {
   "cell_type": "code",
   "execution_count": 29,
   "metadata": {},
   "outputs": [
    {
     "data": {
      "text/html": [
       "<div>\n",
       "<style scoped>\n",
       "    .dataframe tbody tr th:only-of-type {\n",
       "        vertical-align: middle;\n",
       "    }\n",
       "\n",
       "    .dataframe tbody tr th {\n",
       "        vertical-align: top;\n",
       "    }\n",
       "\n",
       "    .dataframe thead th {\n",
       "        text-align: right;\n",
       "    }\n",
       "</style>\n",
       "<table border=\"1\" class=\"dataframe\">\n",
       "  <thead>\n",
       "    <tr style=\"text-align: right;\">\n",
       "      <th></th>\n",
       "      <th>Area</th>\n",
       "      <th>Perimeter</th>\n",
       "      <th>MajorAxisLength</th>\n",
       "      <th>MinorAxisLength</th>\n",
       "      <th>AspectRation</th>\n",
       "      <th>Eccentricity</th>\n",
       "      <th>ConvexArea</th>\n",
       "      <th>EquivDiameter</th>\n",
       "      <th>Extent</th>\n",
       "      <th>Solidity</th>\n",
       "      <th>roundness</th>\n",
       "      <th>Compactness</th>\n",
       "      <th>ShapeFactor1</th>\n",
       "      <th>ShapeFactor2</th>\n",
       "      <th>ShapeFactor3</th>\n",
       "      <th>ShapeFactor4</th>\n",
       "      <th>Class</th>\n",
       "    </tr>\n",
       "  </thead>\n",
       "  <tbody>\n",
       "    <tr>\n",
       "      <th>0</th>\n",
       "      <td>28395</td>\n",
       "      <td>610.291</td>\n",
       "      <td>208.178</td>\n",
       "      <td>173.889</td>\n",
       "      <td>1.197</td>\n",
       "      <td>0.550</td>\n",
       "      <td>28715</td>\n",
       "      <td>190.141</td>\n",
       "      <td>0.764</td>\n",
       "      <td>0.989</td>\n",
       "      <td>0.958</td>\n",
       "      <td>0.913</td>\n",
       "      <td>0.007</td>\n",
       "      <td>0.003</td>\n",
       "      <td>0.834</td>\n",
       "      <td>0.999</td>\n",
       "      <td>SEKER</td>\n",
       "    </tr>\n",
       "    <tr>\n",
       "      <th>1</th>\n",
       "      <td>28734</td>\n",
       "      <td>638.018</td>\n",
       "      <td>200.525</td>\n",
       "      <td>182.734</td>\n",
       "      <td>1.097</td>\n",
       "      <td>0.412</td>\n",
       "      <td>29172</td>\n",
       "      <td>191.273</td>\n",
       "      <td>0.784</td>\n",
       "      <td>0.985</td>\n",
       "      <td>0.887</td>\n",
       "      <td>0.954</td>\n",
       "      <td>0.007</td>\n",
       "      <td>0.004</td>\n",
       "      <td>0.910</td>\n",
       "      <td>0.998</td>\n",
       "      <td>SEKER</td>\n",
       "    </tr>\n",
       "    <tr>\n",
       "      <th>2</th>\n",
       "      <td>29380</td>\n",
       "      <td>624.110</td>\n",
       "      <td>212.826</td>\n",
       "      <td>175.931</td>\n",
       "      <td>1.210</td>\n",
       "      <td>0.563</td>\n",
       "      <td>29690</td>\n",
       "      <td>193.411</td>\n",
       "      <td>0.778</td>\n",
       "      <td>0.990</td>\n",
       "      <td>0.948</td>\n",
       "      <td>0.909</td>\n",
       "      <td>0.007</td>\n",
       "      <td>0.003</td>\n",
       "      <td>0.826</td>\n",
       "      <td>0.999</td>\n",
       "      <td>SEKER</td>\n",
       "    </tr>\n",
       "    <tr>\n",
       "      <th>3</th>\n",
       "      <td>30008</td>\n",
       "      <td>645.884</td>\n",
       "      <td>210.558</td>\n",
       "      <td>182.517</td>\n",
       "      <td>1.154</td>\n",
       "      <td>0.499</td>\n",
       "      <td>30724</td>\n",
       "      <td>195.467</td>\n",
       "      <td>0.783</td>\n",
       "      <td>0.977</td>\n",
       "      <td>0.904</td>\n",
       "      <td>0.928</td>\n",
       "      <td>0.007</td>\n",
       "      <td>0.003</td>\n",
       "      <td>0.862</td>\n",
       "      <td>0.994</td>\n",
       "      <td>SEKER</td>\n",
       "    </tr>\n",
       "    <tr>\n",
       "      <th>4</th>\n",
       "      <td>30140</td>\n",
       "      <td>620.134</td>\n",
       "      <td>201.848</td>\n",
       "      <td>190.279</td>\n",
       "      <td>1.061</td>\n",
       "      <td>0.334</td>\n",
       "      <td>30417</td>\n",
       "      <td>195.897</td>\n",
       "      <td>0.773</td>\n",
       "      <td>0.991</td>\n",
       "      <td>0.985</td>\n",
       "      <td>0.971</td>\n",
       "      <td>0.007</td>\n",
       "      <td>0.004</td>\n",
       "      <td>0.942</td>\n",
       "      <td>0.999</td>\n",
       "      <td>SEKER</td>\n",
       "    </tr>\n",
       "  </tbody>\n",
       "</table>\n",
       "</div>"
      ],
      "text/plain": [
       "    Area  Perimeter  MajorAxisLength  MinorAxisLength  AspectRation  \\\n",
       "0  28395    610.291          208.178          173.889         1.197   \n",
       "1  28734    638.018          200.525          182.734         1.097   \n",
       "2  29380    624.110          212.826          175.931         1.210   \n",
       "3  30008    645.884          210.558          182.517         1.154   \n",
       "4  30140    620.134          201.848          190.279         1.061   \n",
       "\n",
       "   Eccentricity  ConvexArea  EquivDiameter  Extent  Solidity  roundness  \\\n",
       "0         0.550       28715        190.141   0.764     0.989      0.958   \n",
       "1         0.412       29172        191.273   0.784     0.985      0.887   \n",
       "2         0.563       29690        193.411   0.778     0.990      0.948   \n",
       "3         0.499       30724        195.467   0.783     0.977      0.904   \n",
       "4         0.334       30417        195.897   0.773     0.991      0.985   \n",
       "\n",
       "   Compactness  ShapeFactor1  ShapeFactor2  ShapeFactor3  ShapeFactor4  Class  \n",
       "0        0.913         0.007         0.003         0.834         0.999  SEKER  \n",
       "1        0.954         0.007         0.004         0.910         0.998  SEKER  \n",
       "2        0.909         0.007         0.003         0.826         0.999  SEKER  \n",
       "3        0.928         0.007         0.003         0.862         0.994  SEKER  \n",
       "4        0.971         0.007         0.004         0.942         0.999  SEKER  "
      ]
     },
     "execution_count": 29,
     "metadata": {},
     "output_type": "execute_result"
    }
   ],
   "source": [
    "beans.head()"
   ]
  },
  {
   "attachments": {},
   "cell_type": "markdown",
   "metadata": {},
   "source": [
    "### Pre-Process and Train Model"
   ]
  },
  {
   "cell_type": "code",
   "execution_count": 30,
   "metadata": {},
   "outputs": [],
   "source": [
    "# Labels are characters but should be integers for sklearn\n",
    "le = LabelEncoder()\n",
    "beans[\"Class\"] = le.fit_transform(beans[\"Class\"])\n",
    "\n",
    "# Split data into classification target and features\n",
    "y = beans[\"Class\"]\n",
    "X = beans.drop(\"Class\", axis = 1)\n",
    "\n",
    "# Split of training data\n",
    "X_train, X_rest1, y_train, y_rest1 = train_test_split(X, y, train_size=10000, random_state=2)\n",
    "\n",
    "# From the remaining data, split of test data\n",
    "X_test, X_rest2, y_test, y_rest2 = train_test_split(X_rest1, y_rest1, train_size=1000, random_state=42)\n",
    "\n",
    "# Split remaining into calibration and \"new\" data\n",
    "X_calib, X_new, y_calib, y_new = train_test_split(X_rest2, y_rest2, train_size=1000, random_state=42)\n",
    "\n",
    "# Fit the model\n",
    "model = GaussianNB().fit(X_train, y_train)"
   ]
  },
  {
   "attachments": {},
   "cell_type": "markdown",
   "metadata": {},
   "source": [
    "### Model Evaluation"
   ]
  },
  {
   "cell_type": "code",
   "execution_count": 31,
   "metadata": {},
   "outputs": [
    {
     "name": "stdout",
     "output_type": "stream",
     "text": [
      "Accuracy: 0.758\n",
      "          BARBUNYA  BOMBAY  CALI  DERMASON  HOROZ  SEKER  SIRA\n",
      "BARBUNYA        46       0    47         0      6      0     4\n",
      "BOMBAY           0      33     0         0      0      0     0\n",
      "CALI            20       0    81         0      3      0     0\n",
      "DERMASON         0       0     0       223      0     32     9\n",
      "HOROZ            0       0     4         3    104      0    22\n",
      "SEKER            2       0     0        26      1    127    22\n",
      "SIRA             0       0     0        10     10     21   144\n"
     ]
    }
   ],
   "source": [
    "# Check accuracy\n",
    "y_pred = model.predict(X_test)\n",
    "print(\"Accuracy:\", (y_pred == y_test).mean())\n",
    "\n",
    "# Create the confusion matrix\n",
    "cm = confusion_matrix(y_test, y_pred)\n",
    "print(pd.DataFrame(cm, index=le.classes_, columns=le.classes_))"
   ]
  },
  {
   "attachments": {},
   "cell_type": "markdown",
   "metadata": {},
   "source": [
    "### Model Calibration - MAPIE - Naive Approach"
   ]
  },
  {
   "cell_type": "code",
   "execution_count": 32,
   "metadata": {},
   "outputs": [],
   "source": [
    "# Initialize the MapieClassifier\n",
    "mapie_score = MapieClassifier(model, cv=\"prefit\", method=\"naive\")\n",
    "\n",
    "# Calibration step\n",
    "mapie_score.fit(X_train, y_train)\n",
    "\n",
    "# Prediction step\n",
    "y_pred, y_set = mapie_score.predict(X_new, alpha=0.05)\n",
    "\n",
    "# Removing the alpha-dimension\n",
    "y_set = np.squeeze(y_set)"
   ]
  },
  {
   "cell_type": "code",
   "execution_count": 33,
   "metadata": {},
   "outputs": [
    {
     "name": "stdout",
     "output_type": "stream",
     "text": [
      "Coverage: 90.32%\n",
      "Avg. set size: 1.41\n"
     ]
    }
   ],
   "source": [
    "cov = classification_coverage_score(y_new, y_set)\n",
    "setsize = classification_mean_width_score(y_set)\n",
    "print('Coverage: {:.2%}'.format(cov))\n",
    "print('Avg. set size: {:.2f}'.format(setsize))"
   ]
  },
  {
   "attachments": {},
   "cell_type": "markdown",
   "metadata": {},
   "source": [
    "### Model Calibration - MAPIE - Score Method"
   ]
  },
  {
   "cell_type": "code",
   "execution_count": 34,
   "metadata": {},
   "outputs": [],
   "source": [
    "mapie_score = MapieClassifier(model, cv='prefit', method='score')\n",
    "mapie_score.fit(X_calib, y_calib)\n",
    "y_pred, y_set = mapie_score.predict(X_new, alpha=0.05)\n",
    "y_set = np.squeeze(y_set)"
   ]
  },
  {
   "cell_type": "code",
   "execution_count": 35,
   "metadata": {},
   "outputs": [
    {
     "name": "stdout",
     "output_type": "stream",
     "text": [
      "Coverage: 96.28%\n",
      "Avg. set size: 1.83\n"
     ]
    }
   ],
   "source": [
    "cov = classification_coverage_score(y_new, y_set)\n",
    "setsize = classification_mean_width_score(y_set)\n",
    "print('Coverage: {:.2%}'.format(cov))\n",
    "print(\"Avg. set size: {:.2f}\".format(setsize))"
   ]
  },
  {
   "attachments": {},
   "cell_type": "markdown",
   "metadata": {},
   "source": [
    "### Model Calibration - MAPIE - Marginal Coverage x Conditional Coverage"
   ]
  },
  {
   "cell_type": "code",
   "execution_count": 36,
   "metadata": {},
   "outputs": [],
   "source": [
    "def class_wise_performance(y_new, y_set, classes):\n",
    "    df = pd.DataFrame()\n",
    "    # Loop through the classes\n",
    "    for i in range(len(classes)):  \n",
    "        # Calculate the coverage and set size for the current class\n",
    "        ynew = y_new.values[y_new.values == i]\n",
    "        yscore = y_set[y_new.values == i]\n",
    "        cov = classification_coverage_score(ynew, yscore)\n",
    "        size = classification_mean_width_score(yscore)\n",
    "        # Create a new dataframe with the calculated values\n",
    "        temp_df = pd.DataFrame({\n",
    "            \"class\": [classes[i]],\n",
    "            \"coverage\": [cov],\n",
    "            \"avg. set size\": [size]\n",
    "            }, index = [i])\n",
    "        # Concatenate the new dataframe with the existing one\n",
    "        df = pd.concat([df, temp_df])\n",
    "    return(df)"
   ]
  },
  {
   "cell_type": "code",
   "execution_count": 37,
   "metadata": {},
   "outputs": [
    {
     "name": "stdout",
     "output_type": "stream",
     "text": [
      "      class  coverage  avg. set size\n",
      "0  BARBUNYA     0.925          2.138\n",
      "1    BOMBAY     1.000          1.000\n",
      "2      CALI     0.966          2.131\n",
      "3  DERMASON     0.973          1.463\n",
      "4     HOROZ     0.939          1.873\n",
      "5     SEKER     0.970          2.017\n",
      "6      SIRA     0.974          1.974\n"
     ]
    }
   ],
   "source": [
    "# We can apply this function to our new data and the corresponding prediction sets\n",
    "print(class_wise_performance(y_new, y_set, le.classes_))"
   ]
  },
  {
   "attachments": {},
   "cell_type": "markdown",
   "metadata": {},
   "source": [
    "### Model Calibration - MAPIE - Adaptative Approach"
   ]
  },
  {
   "cell_type": "code",
   "execution_count": 38,
   "metadata": {},
   "outputs": [
    {
     "data": {
      "text/html": [
       "<style>#sk-container-id-3 {color: black;background-color: white;}#sk-container-id-3 pre{padding: 0;}#sk-container-id-3 div.sk-toggleable {background-color: white;}#sk-container-id-3 label.sk-toggleable__label {cursor: pointer;display: block;width: 100%;margin-bottom: 0;padding: 0.3em;box-sizing: border-box;text-align: center;}#sk-container-id-3 label.sk-toggleable__label-arrow:before {content: \"▸\";float: left;margin-right: 0.25em;color: #696969;}#sk-container-id-3 label.sk-toggleable__label-arrow:hover:before {color: black;}#sk-container-id-3 div.sk-estimator:hover label.sk-toggleable__label-arrow:before {color: black;}#sk-container-id-3 div.sk-toggleable__content {max-height: 0;max-width: 0;overflow: hidden;text-align: left;background-color: #f0f8ff;}#sk-container-id-3 div.sk-toggleable__content pre {margin: 0.2em;color: black;border-radius: 0.25em;background-color: #f0f8ff;}#sk-container-id-3 input.sk-toggleable__control:checked~div.sk-toggleable__content {max-height: 200px;max-width: 100%;overflow: auto;}#sk-container-id-3 input.sk-toggleable__control:checked~label.sk-toggleable__label-arrow:before {content: \"▾\";}#sk-container-id-3 div.sk-estimator input.sk-toggleable__control:checked~label.sk-toggleable__label {background-color: #d4ebff;}#sk-container-id-3 div.sk-label input.sk-toggleable__control:checked~label.sk-toggleable__label {background-color: #d4ebff;}#sk-container-id-3 input.sk-hidden--visually {border: 0;clip: rect(1px 1px 1px 1px);clip: rect(1px, 1px, 1px, 1px);height: 1px;margin: -1px;overflow: hidden;padding: 0;position: absolute;width: 1px;}#sk-container-id-3 div.sk-estimator {font-family: monospace;background-color: #f0f8ff;border: 1px dotted black;border-radius: 0.25em;box-sizing: border-box;margin-bottom: 0.5em;}#sk-container-id-3 div.sk-estimator:hover {background-color: #d4ebff;}#sk-container-id-3 div.sk-parallel-item::after {content: \"\";width: 100%;border-bottom: 1px solid gray;flex-grow: 1;}#sk-container-id-3 div.sk-label:hover label.sk-toggleable__label {background-color: #d4ebff;}#sk-container-id-3 div.sk-serial::before {content: \"\";position: absolute;border-left: 1px solid gray;box-sizing: border-box;top: 0;bottom: 0;left: 50%;z-index: 0;}#sk-container-id-3 div.sk-serial {display: flex;flex-direction: column;align-items: center;background-color: white;padding-right: 0.2em;padding-left: 0.2em;position: relative;}#sk-container-id-3 div.sk-item {position: relative;z-index: 1;}#sk-container-id-3 div.sk-parallel {display: flex;align-items: stretch;justify-content: center;background-color: white;position: relative;}#sk-container-id-3 div.sk-item::before, #sk-container-id-3 div.sk-parallel-item::before {content: \"\";position: absolute;border-left: 1px solid gray;box-sizing: border-box;top: 0;bottom: 0;left: 50%;z-index: -1;}#sk-container-id-3 div.sk-parallel-item {display: flex;flex-direction: column;z-index: 1;position: relative;background-color: white;}#sk-container-id-3 div.sk-parallel-item:first-child::after {align-self: flex-end;width: 50%;}#sk-container-id-3 div.sk-parallel-item:last-child::after {align-self: flex-start;width: 50%;}#sk-container-id-3 div.sk-parallel-item:only-child::after {width: 0;}#sk-container-id-3 div.sk-dashed-wrapped {border: 1px dashed gray;margin: 0 0.4em 0.5em 0.4em;box-sizing: border-box;padding-bottom: 0.4em;background-color: white;}#sk-container-id-3 div.sk-label label {font-family: monospace;font-weight: bold;display: inline-block;line-height: 1.2em;}#sk-container-id-3 div.sk-label-container {text-align: center;}#sk-container-id-3 div.sk-container {/* jupyter's `normalize.less` sets `[hidden] { display: none; }` but bootstrap.min.css set `[hidden] { display: none !important; }` so we also need the `!important` here to be able to override the default hidden behavior on the sphinx rendered scikit-learn.org. See: https://github.com/scikit-learn/scikit-learn/issues/21755 */display: inline-block !important;position: relative;}#sk-container-id-3 div.sk-text-repr-fallback {display: none;}</style><div id=\"sk-container-id-3\" class=\"sk-top-container\"><div class=\"sk-text-repr-fallback\"><pre>MapieClassifier(cv=&#x27;prefit&#x27;, estimator=GaussianNB(), method=&#x27;cumulated_score&#x27;,\n",
       "                random_state=1)</pre><b>In a Jupyter environment, please rerun this cell to show the HTML representation or trust the notebook. <br />On GitHub, the HTML representation is unable to render, please try loading this page with nbviewer.org.</b></div><div class=\"sk-container\" hidden><div class=\"sk-item sk-dashed-wrapped\"><div class=\"sk-label-container\"><div class=\"sk-label sk-toggleable\"><input class=\"sk-toggleable__control sk-hidden--visually\" id=\"sk-estimator-id-7\" type=\"checkbox\" ><label for=\"sk-estimator-id-7\" class=\"sk-toggleable__label sk-toggleable__label-arrow\">MapieClassifier</label><div class=\"sk-toggleable__content\"><pre>MapieClassifier(cv=&#x27;prefit&#x27;, estimator=GaussianNB(), method=&#x27;cumulated_score&#x27;,\n",
       "                random_state=1)</pre></div></div></div><div class=\"sk-parallel\"><div class=\"sk-parallel-item\"><div class=\"sk-item\"><div class=\"sk-label-container\"><div class=\"sk-label sk-toggleable\"><input class=\"sk-toggleable__control sk-hidden--visually\" id=\"sk-estimator-id-8\" type=\"checkbox\" ><label for=\"sk-estimator-id-8\" class=\"sk-toggleable__label sk-toggleable__label-arrow\">estimator: GaussianNB</label><div class=\"sk-toggleable__content\"><pre>GaussianNB()</pre></div></div></div><div class=\"sk-serial\"><div class=\"sk-item\"><div class=\"sk-estimator sk-toggleable\"><input class=\"sk-toggleable__control sk-hidden--visually\" id=\"sk-estimator-id-9\" type=\"checkbox\" ><label for=\"sk-estimator-id-9\" class=\"sk-toggleable__label sk-toggleable__label-arrow\">GaussianNB</label><div class=\"sk-toggleable__content\"><pre>GaussianNB()</pre></div></div></div></div></div></div></div></div></div></div>"
      ],
      "text/plain": [
       "MapieClassifier(cv='prefit', estimator=GaussianNB(), method='cumulated_score',\n",
       "                random_state=1)"
      ]
     },
     "execution_count": 38,
     "metadata": {},
     "output_type": "execute_result"
    }
   ],
   "source": [
    "mapie_score = MapieClassifier(model, cv=\"prefit\",\n",
    "                              method=\"cumulated_score\",\n",
    "                              random_state=1)\n",
    "\n",
    "mapie_score.fit(X_calib, y_calib)"
   ]
  },
  {
   "cell_type": "code",
   "execution_count": 39,
   "metadata": {},
   "outputs": [
    {
     "name": "stdout",
     "output_type": "stream",
     "text": [
      "Coverage: 96.96%\n",
      "Avg. set size: 1.91\n",
      "      class  coverage  avg. set size\n",
      "0  BARBUNYA     0.931          2.207\n",
      "1    BOMBAY     1.000          1.000\n",
      "2      CALI     0.972          2.153\n",
      "3  DERMASON     0.983          1.512\n",
      "4     HOROZ     0.947          1.980\n",
      "5     SEKER     0.983          2.115\n",
      "6      SIRA     0.974          2.132\n"
     ]
    }
   ],
   "source": [
    "y_pred, y_set = mapie_score.predict(X_new, alpha=0.05, include_last_label=True)\n",
    "y_set = np.squeeze(y_set)\n",
    "\n",
    "cov = classification_coverage_score(y_new, y_set)\n",
    "setsize = classification_mean_width_score(y_set)\n",
    "print('Coverage: {:.2%}'.format(cov))\n",
    "print(\"Avg. set size: {:.2f}\".format(setsize))\n",
    "print(class_wise_performance(y_new, y_set, le.classes_))"
   ]
  },
  {
   "cell_type": "code",
   "execution_count": 40,
   "metadata": {},
   "outputs": [
    {
     "name": "stdout",
     "output_type": "stream",
     "text": [
      "Coverage: 81.50%\n",
      "Avg. set size: 1.18\n",
      "      class  coverage  avg. set size\n",
      "0  BARBUNYA     0.534          1.218\n",
      "1    BOMBAY     1.000          1.000\n",
      "2      CALI     0.847          1.153\n",
      "3  DERMASON     0.921          1.163\n",
      "4     HOROZ     0.803          1.275\n",
      "5     SEKER     0.732          1.132\n",
      "6      SIRA     0.849          1.170\n"
     ]
    }
   ],
   "source": [
    "y_pred, y_set = mapie_score.predict(X_new, alpha=0.05, include_last_label=False)\n",
    "y_set = np.squeeze(y_set)\n",
    "cov = classification_coverage_score(y_new, y_set)\n",
    "setsize = classification_mean_width_score(y_set)\n",
    "\n",
    "print('Coverage: {:.2%}'.format(cov))\n",
    "print(\"Avg. set size: {:.2f}\".format(setsize))\n",
    "print(class_wise_performance(y_new, y_set, le.classes_))"
   ]
  },
  {
   "cell_type": "code",
   "execution_count": 41,
   "metadata": {},
   "outputs": [
    {
     "name": "stdout",
     "output_type": "stream",
     "text": [
      "Coverage: 95.97%\n",
      "Avg. set size: 1.89\n",
      "      class  coverage  avg. set size\n",
      "0  BARBUNYA     0.931          2.213\n",
      "1    BOMBAY     1.000          2.000\n",
      "2      CALI     0.960          2.165\n",
      "3  DERMASON     0.973          1.443\n",
      "4     HOROZ     0.934          1.980\n",
      "5     SEKER     0.962          1.979\n",
      "6      SIRA     0.968          1.981\n"
     ]
    }
   ],
   "source": [
    "y_pred, y_set = mapie_score.predict(X_new, alpha=0.05, include_last_label=\"randomized\")\n",
    "y_set = np.squeeze(y_set)\n",
    "cov = classification_coverage_score(y_new, y_set)\n",
    "setsize = classification_mean_width_score(y_set)\n",
    "\n",
    "print('Coverage: {:.2%}'.format(cov))\n",
    "print(\"Avg. set size: {:.2f}\".format(setsize))\n",
    "print(class_wise_performance(y_new, y_set, le.classes_))"
   ]
  },
  {
   "attachments": {},
   "cell_type": "markdown",
   "metadata": {},
   "source": [
    "### Model Calibration - MAPIE - Top-k method for fixed size sets"
   ]
  },
  {
   "cell_type": "code",
   "execution_count": 42,
   "metadata": {},
   "outputs": [
    {
     "name": "stdout",
     "output_type": "stream",
     "text": [
      "Coverage: 98.82%\n",
      "Avg. set size: 3.61\n",
      "      class  coverage  avg. set size\n",
      "0  BARBUNYA     0.971          3.414\n",
      "1    BOMBAY     1.000          7.000\n",
      "2      CALI     0.983          3.750\n",
      "3  DERMASON     0.998          4.261\n",
      "4     HOROZ     0.971          3.000\n",
      "5     SEKER     0.987          3.000\n",
      "6      SIRA     1.000          3.000\n"
     ]
    }
   ],
   "source": [
    "mapie_score = MapieClassifier(model, cv=\"prefit\", method=\"top_k\")\n",
    "mapie_score.fit(X_calib, y_calib)\n",
    "\n",
    "y_pred, y_set = mapie_score.predict(X_new, alpha=0.05)\n",
    "y_set = np.squeeze(y_set)\n",
    "cov = classification_coverage_score(y_new, y_set)\n",
    "setsize = classification_mean_width_score(y_set)\n",
    "\n",
    "print('Coverage: {:.2%}'.format(cov))\n",
    "print(\"Avg. set size: {:.2f}\".format(setsize))\n",
    "print(class_wise_performance(y_new, y_set, le.classes_))"
   ]
  },
  {
   "attachments": {},
   "cell_type": "markdown",
   "metadata": {},
   "source": [
    "### Model Calibration - MAPIE - Regularized APS (RAPS) for small sets"
   ]
  },
  {
   "cell_type": "code",
   "execution_count": 43,
   "metadata": {},
   "outputs": [
    {
     "name": "stdout",
     "output_type": "stream",
     "text": [
      "Coverage: 95.59%\n",
      "Avg. set size: 1.87\n",
      "      class  coverage  avg. set size\n",
      "0  BARBUNYA     0.925          2.167\n",
      "1    BOMBAY     1.000          2.000\n",
      "2      CALI     0.955          2.114\n",
      "3  DERMASON     0.970          1.461\n",
      "4     HOROZ     0.926          1.852\n",
      "5     SEKER     0.966          2.026\n",
      "6      SIRA     0.961          1.971\n"
     ]
    }
   ],
   "source": [
    "mapie_score = MapieClassifier(model, cv=\"prefit\", method=\"raps\")\n",
    "mapie_score.fit(X_calib, y_calib, size_raps=0.2)\n",
    "\n",
    "y_pred, y_set = mapie_score.predict(X_new, alpha=0.05, include_last_label=\"randomized\")\n",
    "y_set = np.squeeze(y_set)\n",
    "cov = classification_coverage_score(y_new, y_set)\n",
    "setsize = classification_mean_width_score(y_set)\n",
    "\n",
    "print('Coverage: {:.2%}'.format(cov))\n",
    "print(\"Avg. set size: {:.2f}\".format(setsize))\n",
    "print(class_wise_performance(y_new, y_set, le.classes_))"
   ]
  },
  {
   "attachments": {},
   "cell_type": "markdown",
   "metadata": {},
   "source": [
    "### Model Calibration - MAPIE - Group-balanced conformal prediction"
   ]
  },
  {
   "cell_type": "code",
   "execution_count": 44,
   "metadata": {},
   "outputs": [
    {
     "data": {
      "image/png": "[encoded data removed]",
      "text/plain": [
       "<Figure size 432x288 with 1 Axes>"
      ]
     },
     "metadata": {},
     "output_type": "display_data"
    }
   ],
   "source": [
    "X.Area.hist(bins = 100);\n",
    "small_bean_index = X_calib.Area < 70000"
   ]
  },
  {
   "cell_type": "code",
   "execution_count": 45,
   "metadata": {},
   "outputs": [
    {
     "data": {
      "text/html": [
       "<style>#sk-container-id-4 {color: black;background-color: white;}#sk-container-id-4 pre{padding: 0;}#sk-container-id-4 div.sk-toggleable {background-color: white;}#sk-container-id-4 label.sk-toggleable__label {cursor: pointer;display: block;width: 100%;margin-bottom: 0;padding: 0.3em;box-sizing: border-box;text-align: center;}#sk-container-id-4 label.sk-toggleable__label-arrow:before {content: \"▸\";float: left;margin-right: 0.25em;color: #696969;}#sk-container-id-4 label.sk-toggleable__label-arrow:hover:before {color: black;}#sk-container-id-4 div.sk-estimator:hover label.sk-toggleable__label-arrow:before {color: black;}#sk-container-id-4 div.sk-toggleable__content {max-height: 0;max-width: 0;overflow: hidden;text-align: left;background-color: #f0f8ff;}#sk-container-id-4 div.sk-toggleable__content pre {margin: 0.2em;color: black;border-radius: 0.25em;background-color: #f0f8ff;}#sk-container-id-4 input.sk-toggleable__control:checked~div.sk-toggleable__content {max-height: 200px;max-width: 100%;overflow: auto;}#sk-container-id-4 input.sk-toggleable__control:checked~label.sk-toggleable__label-arrow:before {content: \"▾\";}#sk-container-id-4 div.sk-estimator input.sk-toggleable__control:checked~label.sk-toggleable__label {background-color: #d4ebff;}#sk-container-id-4 div.sk-label input.sk-toggleable__control:checked~label.sk-toggleable__label {background-color: #d4ebff;}#sk-container-id-4 input.sk-hidden--visually {border: 0;clip: rect(1px 1px 1px 1px);clip: rect(1px, 1px, 1px, 1px);height: 1px;margin: -1px;overflow: hidden;padding: 0;position: absolute;width: 1px;}#sk-container-id-4 div.sk-estimator {font-family: monospace;background-color: #f0f8ff;border: 1px dotted black;border-radius: 0.25em;box-sizing: border-box;margin-bottom: 0.5em;}#sk-container-id-4 div.sk-estimator:hover {background-color: #d4ebff;}#sk-container-id-4 div.sk-parallel-item::after {content: \"\";width: 100%;border-bottom: 1px solid gray;flex-grow: 1;}#sk-container-id-4 div.sk-label:hover label.sk-toggleable__label {background-color: #d4ebff;}#sk-container-id-4 div.sk-serial::before {content: \"\";position: absolute;border-left: 1px solid gray;box-sizing: border-box;top: 0;bottom: 0;left: 50%;z-index: 0;}#sk-container-id-4 div.sk-serial {display: flex;flex-direction: column;align-items: center;background-color: white;padding-right: 0.2em;padding-left: 0.2em;position: relative;}#sk-container-id-4 div.sk-item {position: relative;z-index: 1;}#sk-container-id-4 div.sk-parallel {display: flex;align-items: stretch;justify-content: center;background-color: white;position: relative;}#sk-container-id-4 div.sk-item::before, #sk-container-id-4 div.sk-parallel-item::before {content: \"\";position: absolute;border-left: 1px solid gray;box-sizing: border-box;top: 0;bottom: 0;left: 50%;z-index: -1;}#sk-container-id-4 div.sk-parallel-item {display: flex;flex-direction: column;z-index: 1;position: relative;background-color: white;}#sk-container-id-4 div.sk-parallel-item:first-child::after {align-self: flex-end;width: 50%;}#sk-container-id-4 div.sk-parallel-item:last-child::after {align-self: flex-start;width: 50%;}#sk-container-id-4 div.sk-parallel-item:only-child::after {width: 0;}#sk-container-id-4 div.sk-dashed-wrapped {border: 1px dashed gray;margin: 0 0.4em 0.5em 0.4em;box-sizing: border-box;padding-bottom: 0.4em;background-color: white;}#sk-container-id-4 div.sk-label label {font-family: monospace;font-weight: bold;display: inline-block;line-height: 1.2em;}#sk-container-id-4 div.sk-label-container {text-align: center;}#sk-container-id-4 div.sk-container {/* jupyter's `normalize.less` sets `[hidden] { display: none; }` but bootstrap.min.css set `[hidden] { display: none !important; }` so we also need the `!important` here to be able to override the default hidden behavior on the sphinx rendered scikit-learn.org. See: https://github.com/scikit-learn/scikit-learn/issues/21755 */display: inline-block !important;position: relative;}#sk-container-id-4 div.sk-text-repr-fallback {display: none;}</style><div id=\"sk-container-id-4\" class=\"sk-top-container\"><div class=\"sk-text-repr-fallback\"><pre>MapieClassifier(cv=&#x27;prefit&#x27;, estimator=GaussianNB())</pre><b>In a Jupyter environment, please rerun this cell to show the HTML representation or trust the notebook. <br />On GitHub, the HTML representation is unable to render, please try loading this page with nbviewer.org.</b></div><div class=\"sk-container\" hidden><div class=\"sk-item sk-dashed-wrapped\"><div class=\"sk-label-container\"><div class=\"sk-label sk-toggleable\"><input class=\"sk-toggleable__control sk-hidden--visually\" id=\"sk-estimator-id-10\" type=\"checkbox\" ><label for=\"sk-estimator-id-10\" class=\"sk-toggleable__label sk-toggleable__label-arrow\">MapieClassifier</label><div class=\"sk-toggleable__content\"><pre>MapieClassifier(cv=&#x27;prefit&#x27;, estimator=GaussianNB())</pre></div></div></div><div class=\"sk-parallel\"><div class=\"sk-parallel-item\"><div class=\"sk-item\"><div class=\"sk-label-container\"><div class=\"sk-label sk-toggleable\"><input class=\"sk-toggleable__control sk-hidden--visually\" id=\"sk-estimator-id-11\" type=\"checkbox\" ><label for=\"sk-estimator-id-11\" class=\"sk-toggleable__label sk-toggleable__label-arrow\">estimator: GaussianNB</label><div class=\"sk-toggleable__content\"><pre>GaussianNB()</pre></div></div></div><div class=\"sk-serial\"><div class=\"sk-item\"><div class=\"sk-estimator sk-toggleable\"><input class=\"sk-toggleable__control sk-hidden--visually\" id=\"sk-estimator-id-12\" type=\"checkbox\" ><label for=\"sk-estimator-id-12\" class=\"sk-toggleable__label sk-toggleable__label-arrow\">GaussianNB</label><div class=\"sk-toggleable__content\"><pre>GaussianNB()</pre></div></div></div></div></div></div></div></div></div></div>"
      ],
      "text/plain": [
       "MapieClassifier(cv='prefit', estimator=GaussianNB())"
      ]
     },
     "execution_count": 45,
     "metadata": {},
     "output_type": "execute_result"
    }
   ],
   "source": [
    "X_calib_group = X_calib[small_bean_index]\n",
    "y_calib_group = y_calib[small_bean_index]\n",
    "mapie_group = MapieClassifier(model, cv=\"prefit\", method=\"score\")\n",
    "mapie_group.fit(X_calib_group, y_calib_group.values)"
   ]
  },
  {
   "cell_type": "code",
   "execution_count": 46,
   "metadata": {},
   "outputs": [],
   "source": [
    "group_index = X_new.Area < 70000\n",
    "X_group = X_new[group_index]\n",
    "y_pred, y_set = mapie_group.predict(X_group, alpha=0.05)"
   ]
  },
  {
   "cell_type": "code",
   "execution_count": null,
   "metadata": {},
   "outputs": [],
   "source": []
  }
 ],
 "metadata": {
  "kernelspec": {
   "display_name": "base",
   "language": "python",
   "name": "python3"
  },
  "language_info": {
   "codemirror_mode": {
    "name": "ipython",
    "version": 3
   },
   "file_extension": ".py",
   "mimetype": "text/x-python",
   "name": "python",
   "nbconvert_exporter": "python",
   "pygments_lexer": "ipython3",
   "version": "3.9.7"
  },
  "orig_nbformat": 4,
  "vscode": {
   "interpreter": {
    "hash": "a63dbfce567fe45cf0ad99c7fc02df65ff5753f7718eaa046a5ef4c1827daabc"
   }
  }
 },
 "nbformat": 4,
 "nbformat_minor": 2
}
