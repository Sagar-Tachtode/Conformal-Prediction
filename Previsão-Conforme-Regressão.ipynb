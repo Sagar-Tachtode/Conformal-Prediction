{
 "cells": [
  {
   "attachments": {},
   "cell_type": "markdown",
   "metadata": {},
   "source": [
    "## Calibrando Modelos de Regressão com Previsão Conforme\n",
    "\n",
    "Previsão Conforme (em inglês Conformal Prediction) é um método que transforma as previsões pontuais em conjuntos de previsões. Dessa forma, fornece previsões associadas à um nível de confiança estatística, permitindo que sejam medidos e controlados os riscos de uma previsão estar errada.\n"
   ]
  },
  {
   "attachments": {},
   "cell_type": "markdown",
   "metadata": {},
   "source": [
    "### Importar Libs"
   ]
  },
  {
   "cell_type": "code",
   "execution_count": null,
   "metadata": {},
   "outputs": [],
   "source": [
    "#%pip install -U numpy pandas sklearn wget matplotlib seaborn"
   ]
  },
  {
   "cell_type": "code",
   "execution_count": null,
   "metadata": {},
   "outputs": [],
   "source": [
    "#%pip install mapie --use-deprecated=legacy-resolver"
   ]
  },
  {
   "cell_type": "code",
   "execution_count": null,
   "metadata": {},
   "outputs": [],
   "source": [
    "import warnings\n",
    "warnings.filterwarnings(\"ignore\")\n",
    "\n",
    "import pandas as pd\n",
    "import numpy as np\n",
    "pd.set_option('display.float_format', lambda x: '%.3f' % x)\n",
    "pd.options.display.max_rows=50\n",
    "\n",
    "import matplotlib.pyplot as plt\n",
    "from matplotlib import style\n",
    "import seaborn as sns\n",
    "style.use(\"fivethirtyeight\")\n",
    "\n",
    "from sklearn.model_selection import train_test_split\n",
    "from sklearn.ensemble import RandomForestRegressor, GradientBoostingRegressor\n",
    "from sklearn.model_selection import RandomizedSearchCV\n",
    "\n",
    "from sklearn.metrics import mean_absolute_error\n",
    "\n",
    "from mapie.regression import MapieRegressor\n",
    "from mapie.quantile_regression import MapieQuantileRegressor\n",
    "from mapie.metrics import regression_coverage_score\n",
    "from mapie.metrics import regression_mean_width_score"
   ]
  },
  {
   "attachments": {},
   "cell_type": "markdown",
   "metadata": {},
   "source": [
    "### Importar Dataset"
   ]
  },
  {
   "cell_type": "code",
   "execution_count": null,
   "metadata": {},
   "outputs": [],
   "source": [
    "# Import data\n",
    "rent = pd.read_csv(\"http://www.bamlss.org/misc/rent99.raw\", sep=' ')\n",
    "y = rent[\"rentsqm\"]\n",
    "X = rent.drop([\"rent\", \"rentsqm\", \"cheating\"], axis = 1)\n",
    "\n",
    "# Train/Test/Calib split\n",
    "X_train, X_rest1, y_train, y_rest1 = train_test_split(\n",
    "X, y, test_size=2000, random_state=2\n",
    ")\n",
    "\n",
    "X_test, X_rest2, y_test, y_rest2 = train_test_split(\n",
    "X_rest1, y_rest1, test_size=1500, random_state=4\n",
    ")\n",
    "\n",
    "X_calib, X_new, y_calib, y_new = train_test_split(\n",
    "X_rest2, y_rest2, test_size=500, random_state=42\n",
    ")\n",
    "\n",
    "\"Data sizes: train: %i, test: %i, calibration: %i, new: %i\" % (\n",
    "len(X_train), len(X_test), len(X_calib), len(X_new)\n",
    ")"
   ]
  },
  {
   "attachments": {},
   "cell_type": "markdown",
   "metadata": {},
   "source": [
    "### Train Model - Random Forest Regressor"
   ]
  },
  {
   "cell_type": "code",
   "execution_count": null,
   "metadata": {},
   "outputs": [],
   "source": [
    "# These are the parameters that we want to optimize\n",
    "params = {\n",
    "'n_estimators': [10, 50, 100, 500, 1000],\n",
    "'max_depth': [None, 1, 2, 5, 10],\n",
    "'min_samples_split': [2, 5, 10],\n",
    "'min_samples_leaf': [1, 2, 4],\n",
    "}\n",
    "\n",
    "# The model is a random forest\n",
    "model = RandomForestRegressor()\n",
    "\n",
    "# Create the random search object using 5-fold cross-validation\n",
    "random_search = RandomizedSearchCV(\n",
    "estimator=model, param_distributions=params, cv=5,\n",
    "n_iter=10, random_state=0\n",
    ")\n",
    "\n",
    "# Fit the random search to the data\n",
    "random_search.fit(X_train, y_train)\n",
    "\n",
    "# Fit the best model from random search to the data\n",
    "model = RandomForestRegressor(\n",
    "**random_search.best_params_, random_state=1\n",
    ")\n",
    "\n",
    "model.fit(X_train, y_train)"
   ]
  },
  {
   "cell_type": "code",
   "execution_count": null,
   "metadata": {},
   "outputs": [],
   "source": [
    "# Make predictions using the fitted model\n",
    "y_pred = model.predict(X_test)\n",
    "# Calculate the mean absolute error\n",
    "mae = mean_absolute_error(y_test, y_pred)\n",
    "print(round(mae, 2))"
   ]
  },
  {
   "attachments": {},
   "cell_type": "markdown",
   "metadata": {},
   "source": [
    "### Conformal Prediction - Random Forest Regressor"
   ]
  },
  {
   "cell_type": "code",
   "execution_count": null,
   "metadata": {},
   "outputs": [],
   "source": [
    "mapie_reg = MapieRegressor(estimator=model, cv=\"prefit\")\n",
    "mapie_reg.fit(X_calib, y_calib)\n",
    "y_pred, y_pis = mapie_reg.predict(X_new, alpha=1/3)"
   ]
  },
  {
   "cell_type": "code",
   "execution_count": null,
   "metadata": {},
   "outputs": [],
   "source": [
    "print(X_new.iloc[4])\n",
    "print(\"------- Rent per Squared Meter -------\")\n",
    "print(\"True rent: {:.2f}\".format(y_new.iloc[4]))\n",
    "print(\"Predicted rent: {:.2f}\".format(y_pred[4]))\n",
    "interval = y_pis[4].flatten()\n",
    "print(\"67% interval: [{:.2f};{:.2f}]\".format(interval[0], interval[1]))\n",
    "print(\"------- Total Rent -------\")\n",
    "print(\"True rent: {:.2f}\".format(y_new.iloc[4]*X_new.iloc[4][0]))\n",
    "print(\"Predicted rent: {:.2f}\".format(y_pred[4]*X_new.iloc[4][0]))\n",
    "print(\"67% interval: [{:.2f};{:.2f}]\".format(interval[0]*X_new.iloc[4][0], interval[1]*X_new.iloc[4][0]))"
   ]
  },
  {
   "cell_type": "code",
   "execution_count": null,
   "metadata": {},
   "outputs": [],
   "source": [
    "# Plots the quantile range of predicted values for given feature\n",
    "\n",
    "def plot_quantile_by_feature(X, y, pred, qrs, feature_name):\n",
    "    \"\"\"\n",
    "    - X (pandas DataFrame): Dataframe with features for the data.\n",
    "    - y (pandas Series): Pandas series with the target variable.\n",
    "    - pred (array-like): An array with predictions.\n",
    "    - qrs (array-like): Quantile range for plotting.\n",
    "    - feature_name (string): The name of the feature being plotted.\n",
    "    \"\"\"\n",
    "    xj= X[feature_name]\n",
    "    # Sort the feature values\n",
    "    order = np.argsort(xj.values)\n",
    "    \n",
    "    # Create a scatter plot of the actual values\n",
    "    plt.scatter(xj, y.values, color=\"black\", alpha=1/3)\n",
    "    \n",
    "    # Plot lower and upper quantile in dashed lines\n",
    "    plt.plot(xj.values[order], qrs[order][:,0], color=\"C1\", ls=\"--\", linewidth=0.6)\n",
    "    plt.plot(xj.values[order], qrs[order][:,1], color=\"C1\", ls=\"--\", linewidth=0.6)\n",
    "    \n",
    "    # Paint the region between the quantiles\n",
    "    plt.fill_between(xj.values[order].ravel(),\n",
    "                     qrs[order][:,0].ravel(),\n",
    "                     qrs[order][:,1].ravel(),\n",
    "                     alpha=0.3)\n",
    "    \n",
    "    # Label the x-axis with the feature name\n",
    "    plt.xlabel(feature_name)\n",
    "    \n",
    "    # Label the y-axis with the label \"predicted rent per sqm\"\n",
    "    plt.ylabel(\"predicted rent per sqm\")"
   ]
  },
  {
   "cell_type": "code",
   "execution_count": null,
   "metadata": {},
   "outputs": [],
   "source": [
    "plot_quantile_by_feature(X_new, y_new, y_pred, y_pis, \"area\")"
   ]
  },
  {
   "cell_type": "code",
   "execution_count": null,
   "metadata": {},
   "outputs": [],
   "source": [
    "plot_quantile_by_feature(X_new, y_new, y_pred, y_pis, \"location\")"
   ]
  },
  {
   "cell_type": "code",
   "execution_count": null,
   "metadata": {},
   "outputs": [],
   "source": [
    "plot_quantile_by_feature(X_new, y_new, y_pred, y_pis, \"yearc\")"
   ]
  },
  {
   "cell_type": "code",
   "execution_count": null,
   "metadata": {},
   "outputs": [],
   "source": [
    "plot_quantile_by_feature(X_new, y_new, y_pred, y_pis, \"bath\")"
   ]
  },
  {
   "cell_type": "code",
   "execution_count": null,
   "metadata": {},
   "outputs": [],
   "source": [
    "plot_quantile_by_feature(X_new, y_new, y_pred, y_pis, \"kitchen\")"
   ]
  },
  {
   "cell_type": "code",
   "execution_count": null,
   "metadata": {},
   "outputs": [],
   "source": [
    "plot_quantile_by_feature(X_new, y_new, y_pred, y_pis, \"district\")"
   ]
  },
  {
   "cell_type": "code",
   "execution_count": null,
   "metadata": {},
   "outputs": [],
   "source": [
    "size = regression_mean_width_score(y_pis[:,0], y_pis[:,1])\n",
    "print(\"Avg. interval size: {:.2f}\".format(size))\n",
    "cov = regression_coverage_score(y_new, y_pis[:,0], y_pis[:,1])\n",
    "print(\"Coverage: {:.2%}\".format(cov))"
   ]
  },
  {
   "attachments": {},
   "cell_type": "markdown",
   "metadata": {},
   "source": [
    "### Conformalized Quantile Regression (CQR) - Theoretical Example"
   ]
  },
  {
   "cell_type": "code",
   "execution_count": null,
   "metadata": {},
   "outputs": [],
   "source": [
    "# alpha = .05\n",
    "# \n",
    "# # 1. Fit quantile regression model on training data\n",
    "# model = RandomForestQuantileRegressor().fit(X_train, y_train)\n",
    "# \n",
    "# # 2. Make prediction on calibration data\n",
    "# y_calib_interval_pred = np.column_stack([\n",
    "#     model.predict(X_calib, quantile=(alpha/2)*100), \n",
    "#     model.predict(X_calib, quantile=(1-alpha/2)*100)])\n",
    "# \n",
    "# # 3. Compute conformity scores on calibration data\n",
    "# y_calib_conformity_scores = np.maximum(\n",
    "#   y_calib_interval_pred[:,0] - y_calib, \n",
    "#   y_calib - y_calib_interval_pred[:,1])\n",
    "# \n",
    "# # 4. Get 1-alpha quantile from the distribution of conformity scores Note: this is a single number\n",
    "# quantile_conformity_scores = np.quantile(\n",
    "#     y_calib_conformity_scores, 1-alpha)\n",
    "# \n",
    "# # 5. Make prediction on test data\n",
    "# y_test_interval_pred = np.column_stack([\n",
    "#     model.predict(X_test, quantile=(alpha/2)*100), \n",
    "#     model.predict(X_test, quantile=(1-alpha/2)*100)])\n",
    "# \n",
    "# # 6. Compute left (right) end of the interval by subtracting (adding) the quantile to the predictions\n",
    "# y_test_interval_pred_cqr = np.column_stack([\n",
    "#     y_test_interval_pred[:,0] - quantile_conformity_scores,\n",
    "#     y_test_interval_pred[:,1] + quantile_conformity_scores])"
   ]
  },
  {
   "attachments": {},
   "cell_type": "markdown",
   "metadata": {},
   "source": [
    "### Conformalized Quantile Regression (CQR) - MAPIE"
   ]
  },
  {
   "cell_type": "code",
   "execution_count": null,
   "metadata": {},
   "outputs": [],
   "source": [
    "# Defining the quantiles for the models\n",
    "# Make sure to have the order right: lower, upper, median\n",
    "alphas = [1/6, 5/6, 0.5]\n",
    "models = []\n",
    "\n",
    "for a in alphas:\n",
    "    m = GradientBoostingRegressor(loss='quantile',alpha=a)\n",
    "    m.fit(X_train, y_train)\n",
    "    models.append(m)"
   ]
  },
  {
   "cell_type": "code",
   "execution_count": null,
   "metadata": {},
   "outputs": [],
   "source": [
    "cqr = MapieQuantileRegressor(models, alpha=1/3, cv=\"prefit\")\n",
    "cqr.fit(X_calib, y_calib)\n",
    "y_pred, y_qr = cqr.predict(X_new, alpha = 1/3)"
   ]
  },
  {
   "cell_type": "code",
   "execution_count": null,
   "metadata": {},
   "outputs": [],
   "source": [
    "# Compute the distances of upper and lower bounds\n",
    "widths = y_qr[:,1] - y_qr[:,0]\n",
    "plt.hist(widths)\n",
    "# Label the x-axis\n",
    "plt.xlabel(\"Interval width\")\n",
    "# Label the y-axis\n",
    "plt.ylabel(\"Frequency\")\n",
    "plt.show()"
   ]
  },
  {
   "cell_type": "code",
   "execution_count": null,
   "metadata": {},
   "outputs": [],
   "source": [
    "for i in range(5):\n",
    "    print(\"%.3f [%.3f;%.3f]\" % (y_pred[i], y_qr[i,0], y_qr[i,1]))"
   ]
  },
  {
   "cell_type": "code",
   "execution_count": null,
   "metadata": {},
   "outputs": [],
   "source": [
    "plot_quantile_by_feature(X_new, y_new, y_pred, y_qr, \"area\")"
   ]
  },
  {
   "cell_type": "code",
   "execution_count": null,
   "metadata": {},
   "outputs": [],
   "source": [
    "size = regression_mean_width_score(y_qr[:,0], y_qr[:,1])\n",
    "print(\"Average interval width: {:.2f}\".format(size))\n",
    "cov = regression_coverage_score(y_new, y_qr[:,0], y_qr[:,1])\n",
    "print(\"Coverage: {:.2%}\".format(cov))"
   ]
  },
  {
   "cell_type": "code",
   "execution_count": null,
   "metadata": {},
   "outputs": [],
   "source": [
    "def regression_calibration_curve(estimator, X, y, alphas=np.linspace(0.1, 1, 10, endpoint=True)):\n",
    "    errors = []\n",
    "    interval_sizes = []\n",
    "    for a in alphas:\n",
    "        pred = estimator.predict(X, significance=a)\n",
    "        interval_sizes.append(np.mean([y-x for x, y in pred]))\n",
    "        errors.append(1 - np.mean([x <= z and z <= y for (x,y), z in zip(pred, y)]))\n",
    "    return errors, interval_sizes\n",
    "\n",
    "def regression_calibration_plot(estimator, X, y, alphas=np.linspace(0.1, 1, 10, endpoint=True)):\n",
    "    errors, interval_sizes = regression_calibration_curve(estimator,X,y,alphas)\n",
    "    fig, ax1 = plt.subplots()\n",
    "    ax2 = ax1.twinx()\n",
    "    ax1.plot([0,1], [0,1])\n",
    "    ax1.plot(alphas, errors, 'o')\n",
    "    ax2.plot(alphas, interval_sizes, '=')\n",
    "    ax1.set_xlabel('Significanc')\n",
    "    ax1.set_ylabel('Error Rate')\n",
    "    ax2.set_ylabel('Avg. Interval Size')\n",
    "    plt.title('Regression Conformal Calibration Curve')\n",
    "    plt.show()"
   ]
  },
  {
   "cell_type": "code",
   "execution_count": null,
   "metadata": {},
   "outputs": [],
   "source": [
    "regression_calibration_plot(y_qr, X_new, y_new)"
   ]
  },
  {
   "cell_type": "code",
   "execution_count": null,
   "metadata": {},
   "outputs": [],
   "source": []
  }
 ],
 "metadata": {
  "kernelspec": {
   "display_name": "base",
   "language": "python",
   "name": "python3"
  },
  "language_info": {
   "codemirror_mode": {
    "name": "ipython",
    "version": 3
   },
   "file_extension": ".py",
   "mimetype": "text/x-python",
   "name": "python",
   "nbconvert_exporter": "python",
   "pygments_lexer": "ipython3",
   "version": "3.10.11"
  },
  "orig_nbformat": 4,
  "vscode": {
   "interpreter": {
    "hash": "a63dbfce567fe45cf0ad99c7fc02df65ff5753f7718eaa046a5ef4c1827daabc"
   }
  }
 },
 "nbformat": 4,
 "nbformat_minor": 2
}
