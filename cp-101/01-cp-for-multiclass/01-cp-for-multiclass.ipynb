{
 "cells": [
  {
   "attachments": {},
   "cell_type": "markdown",
   "metadata": {},
   "source": [
    "### Importar Libs"
   ]
  },
  {
   "cell_type": "code",
   "execution_count": 1,
   "metadata": {},
   "outputs": [],
   "source": [
    "import os\n",
    "import subprocess\n",
    "import warnings\n",
    "warnings.filterwarnings(\"ignore\")\n",
    "\n",
    "import numpy as np\n",
    "import pandas as pd\n",
    "pd.set_option('display.float_format', lambda x: '%.3f' % x)\n",
    "pd.options.display.max_rows=50\n",
    "\n",
    "import matplotlib.pyplot as plt\n",
    "from matplotlib import style\n",
    "import seaborn as sns\n",
    "\n",
    "import re\n",
    "\n",
    "import sklearn\n",
    "from sklearn.model_selection import train_test_split\n",
    "from sklearn.preprocessing import LabelEncoder, PolynomialFeatures\n",
    "from sklearn.pipeline import Pipeline\n",
    "from sklearn.naive_bayes import GaussianNB\n",
    "\n",
    "from sklearn.metrics import accuracy_score, confusion_matrix, precision_score, classification_report\n",
    "\n",
    "import mapie\n",
    "from mapie.classification import MapieClassifier\n",
    "from mapie.metrics import classification_coverage_score, classification_mean_width_score"
   ]
  },
  {
   "cell_type": "code",
   "execution_count": 2,
   "metadata": {},
   "outputs": [],
   "source": [
    "%load_ext watermark"
   ]
  },
  {
   "cell_type": "code",
   "execution_count": 3,
   "metadata": {},
   "outputs": [
    {
     "name": "stdout",
     "output_type": "stream",
     "text": [
      "Last updated: 2023-09-05T23:21:54.006612-03:00\n",
      "\n",
      "Python implementation: CPython\n",
      "Python version       : 3.10.11\n",
      "IPython version      : 8.15.0\n",
      "\n",
      "Compiler    : MSC v.1929 64 bit (AMD64)\n",
      "OS          : Windows\n",
      "Release     : 10\n",
      "Machine     : AMD64\n",
      "Processor   : Intel64 Family 6 Model 165 Stepping 2, GenuineIntel\n",
      "CPU cores   : 12\n",
      "Architecture: 64bit\n",
      "\n"
     ]
    }
   ],
   "source": [
    "%watermark"
   ]
  },
  {
   "cell_type": "code",
   "execution_count": 4,
   "metadata": {},
   "outputs": [
    {
     "name": "stdout",
     "output_type": "stream",
     "text": [
      "numpy     : 1.25.2\n",
      "re        : 2.2.1\n",
      "matplotlib: 3.7.2\n",
      "sklearn   : 1.3.0\n",
      "pandas    : 2.1.0\n",
      "mapie     : 0.6.5\n",
      "seaborn   : 0.12.2\n",
      "\n"
     ]
    }
   ],
   "source": [
    "%watermark --iversions"
   ]
  },
  {
   "attachments": {},
   "cell_type": "markdown",
   "metadata": {},
   "source": [
    "### Variaveis de Ambiente"
   ]
  },
  {
   "cell_type": "code",
   "execution_count": 5,
   "metadata": {},
   "outputs": [],
   "source": [
    "path_dados = 'DryBeanDataset/'\n",
    "data = 'Dry_Bean_Dataset.xlsx'"
   ]
  },
  {
   "attachments": {},
   "cell_type": "markdown",
   "metadata": {},
   "source": [
    "### Importar Dados"
   ]
  },
  {
   "cell_type": "code",
   "execution_count": 6,
   "metadata": {},
   "outputs": [
    {
     "data": {
      "text/html": [
       "<div>\n",
       "<style scoped>\n",
       "    .dataframe tbody tr th:only-of-type {\n",
       "        vertical-align: middle;\n",
       "    }\n",
       "\n",
       "    .dataframe tbody tr th {\n",
       "        vertical-align: top;\n",
       "    }\n",
       "\n",
       "    .dataframe thead th {\n",
       "        text-align: right;\n",
       "    }\n",
       "</style>\n",
       "<table border=\"1\" class=\"dataframe\">\n",
       "  <thead>\n",
       "    <tr style=\"text-align: right;\">\n",
       "      <th></th>\n",
       "      <th>Area</th>\n",
       "      <th>Perimeter</th>\n",
       "      <th>MajorAxisLength</th>\n",
       "      <th>MinorAxisLength</th>\n",
       "      <th>AspectRation</th>\n",
       "      <th>Eccentricity</th>\n",
       "      <th>ConvexArea</th>\n",
       "      <th>EquivDiameter</th>\n",
       "      <th>Extent</th>\n",
       "      <th>Solidity</th>\n",
       "      <th>roundness</th>\n",
       "      <th>Compactness</th>\n",
       "      <th>ShapeFactor1</th>\n",
       "      <th>ShapeFactor2</th>\n",
       "      <th>ShapeFactor3</th>\n",
       "      <th>ShapeFactor4</th>\n",
       "      <th>Class</th>\n",
       "    </tr>\n",
       "  </thead>\n",
       "  <tbody>\n",
       "    <tr>\n",
       "      <th>0</th>\n",
       "      <td>28395</td>\n",
       "      <td>610.291</td>\n",
       "      <td>208.178</td>\n",
       "      <td>173.889</td>\n",
       "      <td>1.197</td>\n",
       "      <td>0.550</td>\n",
       "      <td>28715</td>\n",
       "      <td>190.141</td>\n",
       "      <td>0.764</td>\n",
       "      <td>0.989</td>\n",
       "      <td>0.958</td>\n",
       "      <td>0.913</td>\n",
       "      <td>0.007</td>\n",
       "      <td>0.003</td>\n",
       "      <td>0.834</td>\n",
       "      <td>0.999</td>\n",
       "      <td>SEKER</td>\n",
       "    </tr>\n",
       "    <tr>\n",
       "      <th>1</th>\n",
       "      <td>28734</td>\n",
       "      <td>638.018</td>\n",
       "      <td>200.525</td>\n",
       "      <td>182.734</td>\n",
       "      <td>1.097</td>\n",
       "      <td>0.412</td>\n",
       "      <td>29172</td>\n",
       "      <td>191.273</td>\n",
       "      <td>0.784</td>\n",
       "      <td>0.985</td>\n",
       "      <td>0.887</td>\n",
       "      <td>0.954</td>\n",
       "      <td>0.007</td>\n",
       "      <td>0.004</td>\n",
       "      <td>0.910</td>\n",
       "      <td>0.998</td>\n",
       "      <td>SEKER</td>\n",
       "    </tr>\n",
       "    <tr>\n",
       "      <th>2</th>\n",
       "      <td>29380</td>\n",
       "      <td>624.110</td>\n",
       "      <td>212.826</td>\n",
       "      <td>175.931</td>\n",
       "      <td>1.210</td>\n",
       "      <td>0.563</td>\n",
       "      <td>29690</td>\n",
       "      <td>193.411</td>\n",
       "      <td>0.778</td>\n",
       "      <td>0.990</td>\n",
       "      <td>0.948</td>\n",
       "      <td>0.909</td>\n",
       "      <td>0.007</td>\n",
       "      <td>0.003</td>\n",
       "      <td>0.826</td>\n",
       "      <td>0.999</td>\n",
       "      <td>SEKER</td>\n",
       "    </tr>\n",
       "    <tr>\n",
       "      <th>3</th>\n",
       "      <td>30008</td>\n",
       "      <td>645.884</td>\n",
       "      <td>210.558</td>\n",
       "      <td>182.517</td>\n",
       "      <td>1.154</td>\n",
       "      <td>0.499</td>\n",
       "      <td>30724</td>\n",
       "      <td>195.467</td>\n",
       "      <td>0.783</td>\n",
       "      <td>0.977</td>\n",
       "      <td>0.904</td>\n",
       "      <td>0.928</td>\n",
       "      <td>0.007</td>\n",
       "      <td>0.003</td>\n",
       "      <td>0.862</td>\n",
       "      <td>0.994</td>\n",
       "      <td>SEKER</td>\n",
       "    </tr>\n",
       "    <tr>\n",
       "      <th>4</th>\n",
       "      <td>30140</td>\n",
       "      <td>620.134</td>\n",
       "      <td>201.848</td>\n",
       "      <td>190.279</td>\n",
       "      <td>1.061</td>\n",
       "      <td>0.334</td>\n",
       "      <td>30417</td>\n",
       "      <td>195.897</td>\n",
       "      <td>0.773</td>\n",
       "      <td>0.991</td>\n",
       "      <td>0.985</td>\n",
       "      <td>0.971</td>\n",
       "      <td>0.007</td>\n",
       "      <td>0.004</td>\n",
       "      <td>0.942</td>\n",
       "      <td>0.999</td>\n",
       "      <td>SEKER</td>\n",
       "    </tr>\n",
       "  </tbody>\n",
       "</table>\n",
       "</div>"
      ],
      "text/plain": [
       "    Area  Perimeter  MajorAxisLength  MinorAxisLength  AspectRation  \\\n",
       "0  28395    610.291          208.178          173.889         1.197   \n",
       "1  28734    638.018          200.525          182.734         1.097   \n",
       "2  29380    624.110          212.826          175.931         1.210   \n",
       "3  30008    645.884          210.558          182.517         1.154   \n",
       "4  30140    620.134          201.848          190.279         1.061   \n",
       "\n",
       "   Eccentricity  ConvexArea  EquivDiameter  Extent  Solidity  roundness  \\\n",
       "0         0.550       28715        190.141   0.764     0.989      0.958   \n",
       "1         0.412       29172        191.273   0.784     0.985      0.887   \n",
       "2         0.563       29690        193.411   0.778     0.990      0.948   \n",
       "3         0.499       30724        195.467   0.783     0.977      0.904   \n",
       "4         0.334       30417        195.897   0.773     0.991      0.985   \n",
       "\n",
       "   Compactness  ShapeFactor1  ShapeFactor2  ShapeFactor3  ShapeFactor4  Class  \n",
       "0        0.913         0.007         0.003         0.834         0.999  SEKER  \n",
       "1        0.954         0.007         0.004         0.910         0.998  SEKER  \n",
       "2        0.909         0.007         0.003         0.826         0.999  SEKER  \n",
       "3        0.928         0.007         0.003         0.862         0.994  SEKER  \n",
       "4        0.971         0.007         0.004         0.942         0.999  SEKER  "
      ]
     },
     "execution_count": 6,
     "metadata": {},
     "output_type": "execute_result"
    }
   ],
   "source": [
    "df_beans = pd.read_excel(path_dados + data)\n",
    "df_beans.head()"
   ]
  },
  {
   "cell_type": "code",
   "execution_count": 7,
   "metadata": {},
   "outputs": [
    {
     "name": "stdout",
     "output_type": "stream",
     "text": [
      "(13611, 17)\n"
     ]
    }
   ],
   "source": [
    "print(df_beans.shape)"
   ]
  },
  {
   "cell_type": "code",
   "execution_count": 8,
   "metadata": {},
   "outputs": [
    {
     "data": {
      "text/plain": [
       "Index(['Area', 'Perimeter', 'MajorAxisLength', 'MinorAxisLength',\n",
       "       'AspectRation', 'Eccentricity', 'ConvexArea', 'EquivDiameter', 'Extent',\n",
       "       'Solidity', 'roundness', 'Compactness', 'ShapeFactor1', 'ShapeFactor2',\n",
       "       'ShapeFactor3', 'ShapeFactor4', 'Class'],\n",
       "      dtype='object')"
      ]
     },
     "execution_count": 8,
     "metadata": {},
     "output_type": "execute_result"
    }
   ],
   "source": [
    "df_beans.columns"
   ]
  },
  {
   "attachments": {},
   "cell_type": "markdown",
   "metadata": {},
   "source": [
    "### Pré-Processamento"
   ]
  },
  {
   "cell_type": "code",
   "execution_count": 9,
   "metadata": {},
   "outputs": [
    {
     "name": "stdout",
     "output_type": "stream",
     "text": [
      "13611 13611\n"
     ]
    }
   ],
   "source": [
    "# Criando Target multiclass\n",
    "le = LabelEncoder()\n",
    "y = le.fit_transform(df_beans[\"Class\"])\n",
    "\n",
    "# Definindo Features\n",
    "X = df_beans.drop(\"Class\", axis = 1)\n",
    "\n",
    "print(len(X), len(y))"
   ]
  },
  {
   "cell_type": "code",
   "execution_count": 10,
   "metadata": {},
   "outputs": [
    {
     "name": "stdout",
     "output_type": "stream",
     "text": [
      "10000 1000 1000\n"
     ]
    }
   ],
   "source": [
    "# Separar Treino/Teste/Calibração\n",
    "X_train, X_rest1, y_train, y_rest1 = train_test_split(X, y, train_size=10000, random_state=12)\n",
    "X_test, X_rest2, y_test, y_rest2 = train_test_split(X_rest1, y_rest1, train_size=1000, random_state=42)\n",
    "X_calib, X_new, y_calib, y_new = train_test_split(X_rest2, y_rest2, train_size=1000, random_state=72)\n",
    "\n",
    "print(len(X_train), len(X_test), len(X_calib))"
   ]
  },
  {
   "cell_type": "code",
   "execution_count": 11,
   "metadata": {},
   "outputs": [],
   "source": [
    "# Pre Processamento de Texto - Polynomial Features\n",
    "poly = PolynomialFeatures(degree=2)"
   ]
  },
  {
   "attachments": {},
   "cell_type": "markdown",
   "metadata": {},
   "source": [
    "### Treinamento do Modelo"
   ]
  },
  {
   "cell_type": "code",
   "execution_count": 12,
   "metadata": {},
   "outputs": [
    {
     "data": {
      "text/html": [
       "<style>#sk-container-id-1 {color: black;}#sk-container-id-1 pre{padding: 0;}#sk-container-id-1 div.sk-toggleable {background-color: white;}#sk-container-id-1 label.sk-toggleable__label {cursor: pointer;display: block;width: 100%;margin-bottom: 0;padding: 0.3em;box-sizing: border-box;text-align: center;}#sk-container-id-1 label.sk-toggleable__label-arrow:before {content: \"▸\";float: left;margin-right: 0.25em;color: #696969;}#sk-container-id-1 label.sk-toggleable__label-arrow:hover:before {color: black;}#sk-container-id-1 div.sk-estimator:hover label.sk-toggleable__label-arrow:before {color: black;}#sk-container-id-1 div.sk-toggleable__content {max-height: 0;max-width: 0;overflow: hidden;text-align: left;background-color: #f0f8ff;}#sk-container-id-1 div.sk-toggleable__content pre {margin: 0.2em;color: black;border-radius: 0.25em;background-color: #f0f8ff;}#sk-container-id-1 input.sk-toggleable__control:checked~div.sk-toggleable__content {max-height: 200px;max-width: 100%;overflow: auto;}#sk-container-id-1 input.sk-toggleable__control:checked~label.sk-toggleable__label-arrow:before {content: \"▾\";}#sk-container-id-1 div.sk-estimator input.sk-toggleable__control:checked~label.sk-toggleable__label {background-color: #d4ebff;}#sk-container-id-1 div.sk-label input.sk-toggleable__control:checked~label.sk-toggleable__label {background-color: #d4ebff;}#sk-container-id-1 input.sk-hidden--visually {border: 0;clip: rect(1px 1px 1px 1px);clip: rect(1px, 1px, 1px, 1px);height: 1px;margin: -1px;overflow: hidden;padding: 0;position: absolute;width: 1px;}#sk-container-id-1 div.sk-estimator {font-family: monospace;background-color: #f0f8ff;border: 1px dotted black;border-radius: 0.25em;box-sizing: border-box;margin-bottom: 0.5em;}#sk-container-id-1 div.sk-estimator:hover {background-color: #d4ebff;}#sk-container-id-1 div.sk-parallel-item::after {content: \"\";width: 100%;border-bottom: 1px solid gray;flex-grow: 1;}#sk-container-id-1 div.sk-label:hover label.sk-toggleable__label {background-color: #d4ebff;}#sk-container-id-1 div.sk-serial::before {content: \"\";position: absolute;border-left: 1px solid gray;box-sizing: border-box;top: 0;bottom: 0;left: 50%;z-index: 0;}#sk-container-id-1 div.sk-serial {display: flex;flex-direction: column;align-items: center;background-color: white;padding-right: 0.2em;padding-left: 0.2em;position: relative;}#sk-container-id-1 div.sk-item {position: relative;z-index: 1;}#sk-container-id-1 div.sk-parallel {display: flex;align-items: stretch;justify-content: center;background-color: white;position: relative;}#sk-container-id-1 div.sk-item::before, #sk-container-id-1 div.sk-parallel-item::before {content: \"\";position: absolute;border-left: 1px solid gray;box-sizing: border-box;top: 0;bottom: 0;left: 50%;z-index: -1;}#sk-container-id-1 div.sk-parallel-item {display: flex;flex-direction: column;z-index: 1;position: relative;background-color: white;}#sk-container-id-1 div.sk-parallel-item:first-child::after {align-self: flex-end;width: 50%;}#sk-container-id-1 div.sk-parallel-item:last-child::after {align-self: flex-start;width: 50%;}#sk-container-id-1 div.sk-parallel-item:only-child::after {width: 0;}#sk-container-id-1 div.sk-dashed-wrapped {border: 1px dashed gray;margin: 0 0.4em 0.5em 0.4em;box-sizing: border-box;padding-bottom: 0.4em;background-color: white;}#sk-container-id-1 div.sk-label label {font-family: monospace;font-weight: bold;display: inline-block;line-height: 1.2em;}#sk-container-id-1 div.sk-label-container {text-align: center;}#sk-container-id-1 div.sk-container {/* jupyter's `normalize.less` sets `[hidden] { display: none; }` but bootstrap.min.css set `[hidden] { display: none !important; }` so we also need the `!important` here to be able to override the default hidden behavior on the sphinx rendered scikit-learn.org. See: https://github.com/scikit-learn/scikit-learn/issues/21755 */display: inline-block !important;position: relative;}#sk-container-id-1 div.sk-text-repr-fallback {display: none;}</style><div id=\"sk-container-id-1\" class=\"sk-top-container\"><div class=\"sk-text-repr-fallback\"><pre>Pipeline(steps=[(&#x27;poly&#x27;, PolynomialFeatures()), (&#x27;nb&#x27;, GaussianNB())])</pre><b>In a Jupyter environment, please rerun this cell to show the HTML representation or trust the notebook. <br />On GitHub, the HTML representation is unable to render, please try loading this page with nbviewer.org.</b></div><div class=\"sk-container\" hidden><div class=\"sk-item sk-dashed-wrapped\"><div class=\"sk-label-container\"><div class=\"sk-label sk-toggleable\"><input class=\"sk-toggleable__control sk-hidden--visually\" id=\"sk-estimator-id-1\" type=\"checkbox\" ><label for=\"sk-estimator-id-1\" class=\"sk-toggleable__label sk-toggleable__label-arrow\">Pipeline</label><div class=\"sk-toggleable__content\"><pre>Pipeline(steps=[(&#x27;poly&#x27;, PolynomialFeatures()), (&#x27;nb&#x27;, GaussianNB())])</pre></div></div></div><div class=\"sk-serial\"><div class=\"sk-item\"><div class=\"sk-estimator sk-toggleable\"><input class=\"sk-toggleable__control sk-hidden--visually\" id=\"sk-estimator-id-2\" type=\"checkbox\" ><label for=\"sk-estimator-id-2\" class=\"sk-toggleable__label sk-toggleable__label-arrow\">PolynomialFeatures</label><div class=\"sk-toggleable__content\"><pre>PolynomialFeatures()</pre></div></div></div><div class=\"sk-item\"><div class=\"sk-estimator sk-toggleable\"><input class=\"sk-toggleable__control sk-hidden--visually\" id=\"sk-estimator-id-3\" type=\"checkbox\" ><label for=\"sk-estimator-id-3\" class=\"sk-toggleable__label sk-toggleable__label-arrow\">GaussianNB</label><div class=\"sk-toggleable__content\"><pre>GaussianNB()</pre></div></div></div></div></div></div></div>"
      ],
      "text/plain": [
       "Pipeline(steps=[('poly', PolynomialFeatures()), ('nb', GaussianNB())])"
      ]
     },
     "execution_count": 12,
     "metadata": {},
     "output_type": "execute_result"
    }
   ],
   "source": [
    "pipe_nb = Pipeline([\n",
    "    ('poly', poly),\n",
    "    ('nb', GaussianNB())\n",
    "    ])\n",
    "\n",
    "pipe_nb"
   ]
  },
  {
   "cell_type": "code",
   "execution_count": 13,
   "metadata": {},
   "outputs": [
    {
     "data": {
      "text/html": [
       "<style>#sk-container-id-2 {color: black;}#sk-container-id-2 pre{padding: 0;}#sk-container-id-2 div.sk-toggleable {background-color: white;}#sk-container-id-2 label.sk-toggleable__label {cursor: pointer;display: block;width: 100%;margin-bottom: 0;padding: 0.3em;box-sizing: border-box;text-align: center;}#sk-container-id-2 label.sk-toggleable__label-arrow:before {content: \"▸\";float: left;margin-right: 0.25em;color: #696969;}#sk-container-id-2 label.sk-toggleable__label-arrow:hover:before {color: black;}#sk-container-id-2 div.sk-estimator:hover label.sk-toggleable__label-arrow:before {color: black;}#sk-container-id-2 div.sk-toggleable__content {max-height: 0;max-width: 0;overflow: hidden;text-align: left;background-color: #f0f8ff;}#sk-container-id-2 div.sk-toggleable__content pre {margin: 0.2em;color: black;border-radius: 0.25em;background-color: #f0f8ff;}#sk-container-id-2 input.sk-toggleable__control:checked~div.sk-toggleable__content {max-height: 200px;max-width: 100%;overflow: auto;}#sk-container-id-2 input.sk-toggleable__control:checked~label.sk-toggleable__label-arrow:before {content: \"▾\";}#sk-container-id-2 div.sk-estimator input.sk-toggleable__control:checked~label.sk-toggleable__label {background-color: #d4ebff;}#sk-container-id-2 div.sk-label input.sk-toggleable__control:checked~label.sk-toggleable__label {background-color: #d4ebff;}#sk-container-id-2 input.sk-hidden--visually {border: 0;clip: rect(1px 1px 1px 1px);clip: rect(1px, 1px, 1px, 1px);height: 1px;margin: -1px;overflow: hidden;padding: 0;position: absolute;width: 1px;}#sk-container-id-2 div.sk-estimator {font-family: monospace;background-color: #f0f8ff;border: 1px dotted black;border-radius: 0.25em;box-sizing: border-box;margin-bottom: 0.5em;}#sk-container-id-2 div.sk-estimator:hover {background-color: #d4ebff;}#sk-container-id-2 div.sk-parallel-item::after {content: \"\";width: 100%;border-bottom: 1px solid gray;flex-grow: 1;}#sk-container-id-2 div.sk-label:hover label.sk-toggleable__label {background-color: #d4ebff;}#sk-container-id-2 div.sk-serial::before {content: \"\";position: absolute;border-left: 1px solid gray;box-sizing: border-box;top: 0;bottom: 0;left: 50%;z-index: 0;}#sk-container-id-2 div.sk-serial {display: flex;flex-direction: column;align-items: center;background-color: white;padding-right: 0.2em;padding-left: 0.2em;position: relative;}#sk-container-id-2 div.sk-item {position: relative;z-index: 1;}#sk-container-id-2 div.sk-parallel {display: flex;align-items: stretch;justify-content: center;background-color: white;position: relative;}#sk-container-id-2 div.sk-item::before, #sk-container-id-2 div.sk-parallel-item::before {content: \"\";position: absolute;border-left: 1px solid gray;box-sizing: border-box;top: 0;bottom: 0;left: 50%;z-index: -1;}#sk-container-id-2 div.sk-parallel-item {display: flex;flex-direction: column;z-index: 1;position: relative;background-color: white;}#sk-container-id-2 div.sk-parallel-item:first-child::after {align-self: flex-end;width: 50%;}#sk-container-id-2 div.sk-parallel-item:last-child::after {align-self: flex-start;width: 50%;}#sk-container-id-2 div.sk-parallel-item:only-child::after {width: 0;}#sk-container-id-2 div.sk-dashed-wrapped {border: 1px dashed gray;margin: 0 0.4em 0.5em 0.4em;box-sizing: border-box;padding-bottom: 0.4em;background-color: white;}#sk-container-id-2 div.sk-label label {font-family: monospace;font-weight: bold;display: inline-block;line-height: 1.2em;}#sk-container-id-2 div.sk-label-container {text-align: center;}#sk-container-id-2 div.sk-container {/* jupyter's `normalize.less` sets `[hidden] { display: none; }` but bootstrap.min.css set `[hidden] { display: none !important; }` so we also need the `!important` here to be able to override the default hidden behavior on the sphinx rendered scikit-learn.org. See: https://github.com/scikit-learn/scikit-learn/issues/21755 */display: inline-block !important;position: relative;}#sk-container-id-2 div.sk-text-repr-fallback {display: none;}</style><div id=\"sk-container-id-2\" class=\"sk-top-container\"><div class=\"sk-text-repr-fallback\"><pre>Pipeline(steps=[(&#x27;poly&#x27;, PolynomialFeatures()), (&#x27;nb&#x27;, GaussianNB())])</pre><b>In a Jupyter environment, please rerun this cell to show the HTML representation or trust the notebook. <br />On GitHub, the HTML representation is unable to render, please try loading this page with nbviewer.org.</b></div><div class=\"sk-container\" hidden><div class=\"sk-item sk-dashed-wrapped\"><div class=\"sk-label-container\"><div class=\"sk-label sk-toggleable\"><input class=\"sk-toggleable__control sk-hidden--visually\" id=\"sk-estimator-id-4\" type=\"checkbox\" ><label for=\"sk-estimator-id-4\" class=\"sk-toggleable__label sk-toggleable__label-arrow\">Pipeline</label><div class=\"sk-toggleable__content\"><pre>Pipeline(steps=[(&#x27;poly&#x27;, PolynomialFeatures()), (&#x27;nb&#x27;, GaussianNB())])</pre></div></div></div><div class=\"sk-serial\"><div class=\"sk-item\"><div class=\"sk-estimator sk-toggleable\"><input class=\"sk-toggleable__control sk-hidden--visually\" id=\"sk-estimator-id-5\" type=\"checkbox\" ><label for=\"sk-estimator-id-5\" class=\"sk-toggleable__label sk-toggleable__label-arrow\">PolynomialFeatures</label><div class=\"sk-toggleable__content\"><pre>PolynomialFeatures()</pre></div></div></div><div class=\"sk-item\"><div class=\"sk-estimator sk-toggleable\"><input class=\"sk-toggleable__control sk-hidden--visually\" id=\"sk-estimator-id-6\" type=\"checkbox\" ><label for=\"sk-estimator-id-6\" class=\"sk-toggleable__label sk-toggleable__label-arrow\">GaussianNB</label><div class=\"sk-toggleable__content\"><pre>GaussianNB()</pre></div></div></div></div></div></div></div>"
      ],
      "text/plain": [
       "Pipeline(steps=[('poly', PolynomialFeatures()), ('nb', GaussianNB())])"
      ]
     },
     "execution_count": 13,
     "metadata": {},
     "output_type": "execute_result"
    }
   ],
   "source": [
    "pipe_nb.fit(X_train, y_train)"
   ]
  },
  {
   "attachments": {},
   "cell_type": "markdown",
   "metadata": {},
   "source": [
    "### Aplicando o Modelo nas Bases de Treino/Teste/Calibração"
   ]
  },
  {
   "cell_type": "code",
   "execution_count": 14,
   "metadata": {},
   "outputs": [],
   "source": [
    "y_train_nb_hat = pipe_nb.predict(X_train)\n",
    "y_test_nb_hat = pipe_nb.predict(X_test)\n",
    "y_calib_nb_hat = pipe_nb.predict(X_calib)"
   ]
  },
  {
   "attachments": {},
   "cell_type": "markdown",
   "metadata": {},
   "source": [
    "### Avaliação do Modelo na Base de Teste"
   ]
  },
  {
   "cell_type": "code",
   "execution_count": 15,
   "metadata": {},
   "outputs": [
    {
     "name": "stdout",
     "output_type": "stream",
     "text": [
      "Matriz de Confusão:  \n",
      "\n",
      "Acurácia: 0.631\n"
     ]
    },
    {
     "data": {
      "image/png": "[encoded data removed]",
      "text/plain": [
       "<Figure size 1000x1000 with 2 Axes>"
      ]
     },
     "metadata": {},
     "output_type": "display_data"
    }
   ],
   "source": [
    "print(\"Matriz de Confusão:  \\n\")\n",
    "print(\"Acurácia:\", (y_test_nb_hat == y_test).mean())\n",
    "cm = confusion_matrix(y_test, y_test_nb_hat)\n",
    "cm_df = pd.DataFrame(cm, index=le.classes_, columns=le.classes_)\n",
    "\n",
    "plt.figure(figsize=(10, 10))\n",
    "sns.heatmap(cm_df, annot=True, fmt='g')\n",
    "plt.show();"
   ]
  },
  {
   "cell_type": "code",
   "execution_count": 16,
   "metadata": {},
   "outputs": [
    {
     "name": "stdout",
     "output_type": "stream",
     "text": [
      "Report de Classificação:  \n",
      "\n",
      "              precision    recall  f1-score   support\n",
      "\n",
      "    BARBUNYA       0.49      0.43      0.46       101\n",
      "      BOMBAY       0.97      1.00      0.99        34\n",
      "        CALI       0.65      0.62      0.64       112\n",
      "    DERMASON       0.81      0.80      0.81       268\n",
      "       HOROZ       0.63      0.51      0.57       134\n",
      "       SEKER       0.41      0.53      0.46       148\n",
      "        SIRA       0.60      0.61      0.60       203\n",
      "\n",
      "    accuracy                           0.63      1000\n",
      "   macro avg       0.65      0.64      0.64      1000\n",
      "weighted avg       0.64      0.63      0.63      1000\n",
      "\n"
     ]
    }
   ],
   "source": [
    "print(\"Report de Classificação:  \\n\")\n",
    "print(classification_report(y_test, y_test_nb_hat, target_names=le.classes_))"
   ]
  },
  {
   "attachments": {},
   "cell_type": "markdown",
   "metadata": {},
   "source": [
    "### Verificando a confiabilidade e calibração dos modelos"
   ]
  },
  {
   "cell_type": "code",
   "execution_count": 17,
   "metadata": {},
   "outputs": [
    {
     "name": "stdout",
     "output_type": "stream",
     "text": [
      "Cobertura Logistic Regression:  \n",
      "\n",
      "0.696\n"
     ]
    }
   ],
   "source": [
    "# Obtenha as \"probabilidades\" do modelo\n",
    "y_calib_nb_proba = pipe_nb.predict_proba(X_calib)\n",
    "# Obtenha para cada instância a maior probabilidade\n",
    "high_prob_predictions = np.amax(y_calib_nb_proba, axis=1)\n",
    "# Selecione as previsões onde a probabilidade é superior a 95%\n",
    "high_p_beans = np.where(high_prob_predictions >= 0.95)\n",
    "# Vamos contar com que frequência acertamos a label correta\n",
    "its_a_match = (y_calib == y_calib_nb_hat)\n",
    "coverage = np.mean(its_a_match[high_p_beans])\n",
    "print(\"Cobertura Logistic Regression:  \\n\")\n",
    "print(round(coverage, 3))"
   ]
  },
  {
   "attachments": {},
   "cell_type": "markdown",
   "metadata": {},
   "source": [
    "Idealmente, 95% ou mais dos filmes deveriam ter a classe prevista, mas infelizmente mesmo filtrando os 95% com maior probabilidades, encontramos 70% de casos corretos.\n",
    "\n",
    "O que fazer agora?"
   ]
  },
  {
   "attachments": {},
   "cell_type": "markdown",
   "metadata": {},
   "source": [
    "### Calibração do Modelo com Conformal Prediction\n",
    "\n",
    "Como obter uma garantia que a cobertura das previsões do modelo caiam em 95% ?\n",
    "\n",
    "Na Conformal Prediction, utilizamos o Score de Não-Conformidade (𝑠𝑖), que mede o quão incomum um resultado sugerido 𝑦 aparece dado a saída do modelo para 𝑥𝑖. Para decidir quais y são “conformes”, e formar a região de previsão, que é um limite baseado nas pontuações de não-conformidade dos dados de calibração em combinação com as labels verdadeiras.\n",
    "\n",
    "𝑠𝑖 = 1 — 𝑓(𝑥𝑖)[𝑦𝑖]\n",
    "\n",
    "Para encontrar esse limite, é feito o seguinte procedimento:\n",
    "\n",
    "- Comece com dados não usados para treinamento do modelo\n",
    "- Calcule as pontuações 𝑠𝑖\n",
    "- Classifique as pontuações de baixa (certa) a alta (incerta)\n",
    "- Calcule o limite q onde 95% dos 𝑠𝑖 são menores (= 95% quantil)"
   ]
  },
  {
   "cell_type": "code",
   "execution_count": 18,
   "metadata": {},
   "outputs": [
    {
     "data": {
      "image/png": "[encoded data removed]",
      "text/plain": [
       "<Figure size 1200x600 with 1 Axes>"
      ]
     },
     "metadata": {},
     "output_type": "display_data"
    }
   ],
   "source": [
    "# Tamanho dos Dados de Calibração\n",
    "n = len(X_calib)\n",
    "# Obtenha as \"probabilidades\" do modelo\n",
    "y_calib_nb_proba = pipe_nb.predict_proba(X_calib)\n",
    "# Filtrar as probabilidades das classes verdadeiras\n",
    "prob_true_class = y_calib_nb_proba[np.arange(n), y_calib]\n",
    "# Transformar em Score de Incerteza (maior significa mais incerto)\n",
    "scores = 1 - prob_true_class\n",
    "# Definir o alfa para obter conjuntos de previsões de 95%\n",
    "alpha = 0.05\n",
    "# Definir os quantis\n",
    "q_level = np.ceil((n+1)*(1-alpha))/n\n",
    "qhat = np.quantile(scores, q_level)\n",
    "\n",
    "# Crie um histograma\n",
    "fig, axs = plt.subplots(figsize=(12, 6))\n",
    "plt.hist(1 - prob_true_class, range=(0, 1))\n",
    "plt.xlabel(\"1 - s(y,x)\")\n",
    "plt.ylabel(\"Frequência\")\n",
    "plt.title(\"Score de Não Conformidade\")\n",
    "plt.show()"
   ]
  },
  {
   "attachments": {},
   "cell_type": "markdown",
   "metadata": {},
   "source": [
    "O código acima calcula esses limites e também o ponto de corte.\n",
    "\n",
    "O nível quantil (baseado em 𝛼) requer uma correção de amostra finita para calcular o quantil correspondente. Nesse caso, o 0,95 foi multiplicado por (n+1)/n , o que significa que 𝑞𝑙𝑒𝑣𝑒𝑙 = 0,951 para n = 1000.\n",
    "\n",
    "E ao final do código, se visualizarmos as pontuações, veremos que é uma questão de cortar na posição correta, conforme mostrado no histograma acima.\n",
    "\n",
    "Para incluir a classe certa 95% das vezes, seria necessário cortar tudo acima de 𝑞 = 0,99906."
   ]
  },
  {
   "attachments": {},
   "cell_type": "markdown",
   "metadata": {},
   "source": [
    "Mas há um problema: para alguns pontos de dados, haverá mais de uma classe que fará o corte. Mas os conjuntos de previsão não são um bug, eles são um recurso da Previsão Conforme.\n",
    "\n",
    "Para gerar os conjuntos de previsão para um novo ponto de dados, o cientista de dados deve combinar todas as classes que estão abaixo do limite 𝑞 em um conjunto.\n",
    "\n",
    "Abaixo, listamos os conjuntos de previsão para 10 “novos” feijões (X_new):"
   ]
  },
  {
   "cell_type": "code",
   "execution_count": 19,
   "metadata": {},
   "outputs": [
    {
     "name": "stdout",
     "output_type": "stream",
     "text": [
      "['DERMASON' 'SEKER' 'SIRA']\n",
      "['DERMASON' 'SEKER' 'SIRA']\n",
      "['DERMASON']\n",
      "['DERMASON' 'SEKER']\n",
      "['DERMASON' 'SEKER']\n",
      "['SEKER' 'SIRA']\n",
      "['BARBUNYA' 'CALI']\n",
      "['DERMASON']\n",
      "['SEKER' 'SIRA']\n",
      "['DERMASON' 'SEKER' 'SIRA']\n"
     ]
    }
   ],
   "source": [
    "prediction_sets = (1 - pipe_nb.predict_proba(X_new) <= qhat)\n",
    "for i in range(10):\n",
    "    print(le.classes_[prediction_sets[i]])"
   ]
  },
  {
   "attachments": {},
   "cell_type": "markdown",
   "metadata": {},
   "source": [
    "Em média, os conjuntos de previsão cobrem a verdadeira classe com uma probabilidade de 95%. Essa é a garantia que obtemos do procedimento conforme.\n",
    "\n",
    "Como a empresa de feijão poderia trabalhar com tais conjuntos de previsões ? O primeiro conjunto tem 3 variedades de feijão. Já os feijões #3 e #8 tem um conjunto de previsões da variedade Dermason. Enquanto que alguns possuem 2 variedades."
   ]
  },
  {
   "attachments": {},
   "cell_type": "markdown",
   "metadata": {},
   "source": [
    "### Calibração do Modelo com Conformal Prediction - Usando a lib MAPIE (Método \"Ingênuo\")"
   ]
  },
  {
   "cell_type": "code",
   "execution_count": 20,
   "metadata": {},
   "outputs": [],
   "source": [
    "# Inicializar o MapieClassifier\n",
    "mapie_score = MapieClassifier(pipe_nb, cv=\"prefit\", method=\"naive\")\n",
    "# Passo de Calibração\n",
    "mapie_score.fit(X_train, y_train)\n",
    "# Passo de Previsão\n",
    "y_pred, y_set = mapie_score.predict(X_new, alpha=0.05)\n",
    "# Remover o conjunto fora da tolerância (alpha)\n",
    "y_set = np.squeeze(y_set)"
   ]
  },
  {
   "attachments": {},
   "cell_type": "markdown",
   "metadata": {},
   "source": [
    "Para os 5 primeiros conjuntos de previsões para os feijões, abaixo vemos que são de tamanho 1 ou 2."
   ]
  },
  {
   "cell_type": "code",
   "execution_count": 21,
   "metadata": {},
   "outputs": [
    {
     "name": "stdout",
     "output_type": "stream",
     "text": [
      "['SEKER']\n",
      "['SEKER']\n",
      "['DERMASON']\n",
      "['DERMASON']\n",
      "['DERMASON']\n",
      "['SIRA']\n",
      "['CALI']\n",
      "['DERMASON']\n",
      "['SEKER' 'SIRA']\n",
      "['SEKER']\n"
     ]
    }
   ],
   "source": [
    "y_set = np.squeeze(y_set)\n",
    "\n",
    "for i in range(10):\n",
    "    print(le.classes_[y_set[i]])"
   ]
  },
  {
   "attachments": {},
   "cell_type": "markdown",
   "metadata": {},
   "source": [
    "Observando os demais feijões em X_new, a maioria dos conjuntos tem tamanho 1 e a minoria têm 2 variedades."
   ]
  },
  {
   "cell_type": "code",
   "execution_count": 22,
   "metadata": {},
   "outputs": [
    {
     "name": "stdout",
     "output_type": "stream",
     "text": [
      "1    1241\n",
      "2     370\n",
      "Name: count, dtype: int64\n"
     ]
    }
   ],
   "source": [
    "# Contagem do número de classes por feijão\n",
    "set_sizes = y_set.sum(axis=1)\n",
    "\n",
    "# Calcular com que frequência cada tamanho ocorre\n",
    "print(pd.Series(set_sizes).value_counts())"
   ]
  },
  {
   "attachments": {},
   "cell_type": "markdown",
   "metadata": {},
   "source": [
    "Isso parece diferente se tornarmos 𝛼 pequeno, dizendo que queremos uma alta probabilidade de que a classe verdadeira esteja lá."
   ]
  },
  {
   "cell_type": "code",
   "execution_count": 23,
   "metadata": {},
   "outputs": [
    {
     "name": "stdout",
     "output_type": "stream",
     "text": [
      "1    1018\n",
      "2     590\n",
      "3       3\n",
      "Name: count, dtype: int64\n"
     ]
    }
   ],
   "source": [
    "y_pred, y_set = mapie_score.predict(X_new, alpha=0.01)\n",
    "y_set = np.squeeze(y_set)\n",
    "\n",
    "# Contagem do número de classes por feijão\n",
    "set_sizes = y_set.sum(axis=1)\n",
    "\n",
    "# Calcular com que frequência cada tamanho ocorre\n",
    "print(pd.Series(set_sizes).value_counts())"
   ]
  },
  {
   "attachments": {},
   "cell_type": "markdown",
   "metadata": {},
   "source": [
    "Como esperado, obtemos conjuntos maiores com um valor menor para 𝛼. Isso ocorre porque quanto menor o 𝛼, mais frequentemente os conjuntos precisam cobrir o parâmetro verdadeiro. Então já podemos ver que existe um trade-off entre o tamanho do conjunto e a cobertura."
   ]
  },
  {
   "cell_type": "code",
   "execution_count": 24,
   "metadata": {},
   "outputs": [
    {
     "name": "stdout",
     "output_type": "stream",
     "text": [
      "Cobertura (Coverage) com alpha de 95%: 76.04%\n",
      "Tamanho Médio do Conjunto com alpha de 95%: 1.23\n",
      "Cobertura (Coverage) com alpha de 99%: 81.13%\n",
      "Tamanho Médio do Conjunto com alpha de 99%: 1.37\n"
     ]
    }
   ],
   "source": [
    "y_pred, y_set = mapie_score.predict(X_new, alpha=0.05)\n",
    "y_set = np.squeeze(y_set)\n",
    "\n",
    "cov = classification_coverage_score(y_new, y_set)\n",
    "setsize = classification_mean_width_score(y_set)\n",
    "print('Cobertura (Coverage) com alpha de 95%: {:.2%}'.format(cov))\n",
    "print('Tamanho Médio do Conjunto com alpha de 95%: {:.2f}'.format(setsize))\n",
    "\n",
    "y_pred, y_set = mapie_score.predict(X_new, alpha=0.01)\n",
    "y_set = np.squeeze(y_set)\n",
    "\n",
    "cov = classification_coverage_score(y_new, y_set)\n",
    "setsize = classification_mean_width_score(y_set)\n",
    "print('Cobertura (Coverage) com alpha de 99%: {:.2%}'.format(cov))\n",
    "print('Tamanho Médio do Conjunto com alpha de 99%: {:.2f}'.format(setsize))"
   ]
  },
  {
   "attachments": {},
   "cell_type": "markdown",
   "metadata": {},
   "source": [
    "### Calibração do Modelo com Conformal Prediction - Usando a lib MAPIE (Método Score)\n",
    "\n",
    "O método “score” segue a receita de Previsão Conforme padrão. Começamos com as etapas de treinamento e calibração:\n",
    "\n",
    "Divida os dados em treinamento e calibração (tamanho 𝑛𝑐𝑎𝑙)\n",
    "Treine o modelo nos dados de treinamento\n",
    "Calcular pontuações de não conformidade\n",
    "– Calcular previsões 𝑓(𝑥) para os dados de calibração\n",
    "– Manter apenas as probabilidades para as classes verdadeiras 𝑓(𝑥𝑖)[𝑦𝑖]\n",
    "– Calcular os scores de não conformidade 𝑠𝑖 = 1 − 𝑓(𝑥 𝑖)[𝑦𝑖]\n",
    "\n",
    "O nível do quantil é 1 − 𝛼 multiplicado por (𝑛𝑐𝑎𝑙 + 1)/𝑛𝑐𝑎𝑙, que serve como um termo de correção de amostra finita. O termo só é relevante quando o conjunto de dados de calibração é pequeno. A título de exemplo, se 𝛼 = 0,05 e 𝑛𝑐𝑎𝑙 = 50, então 𝑞𝑙𝑒𝑣𝑒𝑙 = 0,97. Se 𝑛𝑐𝑎𝑙 = 1000, então 𝑞𝑙𝑒𝑣𝑒𝑙 = 0,951."
   ]
  },
  {
   "cell_type": "code",
   "execution_count": 25,
   "metadata": {},
   "outputs": [
    {
     "name": "stdout",
     "output_type": "stream",
     "text": [
      "Cobertura (Coverage) com alpha de 95%: 95.53%\n",
      "Tamanho Médio do Conjunto com alpha de 95%: 2.03\n"
     ]
    }
   ],
   "source": [
    "mapie_score = MapieClassifier(pipe_nb, cv='prefit', method='score')\n",
    "mapie_score.fit(X_calib, y_calib)\n",
    "y_pred, y_set = mapie_score.predict(X_new, alpha=0.05)\n",
    "y_set = np.squeeze(y_set)\n",
    "\n",
    "cov = classification_coverage_score(y_new, y_set)\n",
    "setsize = classification_mean_width_score(y_set)\n",
    "print('Cobertura (Coverage) com alpha de 95%: {:.2%}'.format(cov))\n",
    "print('Tamanho Médio do Conjunto com alpha de 95%: {:.2f}'.format(setsize))"
   ]
  },
  {
   "attachments": {},
   "cell_type": "markdown",
   "metadata": {},
   "source": [
    "A cobertura agora é boa, dado 𝛼 = 0,05, o que implica uma cobertura de 95% para os conjuntos de previsão. O tamanho médio do conjunto também é bem pequeno, o que é bom."
   ]
  },
  {
   "cell_type": "markdown",
   "metadata": {},
   "source": [
    "### Calibração do Modelo com Conformal Prediction - Cobertura Marginal x Cobertura Condicional\n",
    "\n",
    "Embora todos os métodos de predição conforme garantam cobertura marginal, o método score não é adaptável à dificuldade de cada classificação. Não temos garantia de que a cobertura seja 1 − 𝛼 para cada ponto de dados, nem mesmo para grupos nos dados, como para cada classe.\n",
    "\n",
    "Por exemplo, talvez um tipo de feijão seja muito mais difícil de classificar do que outro. Então pode ser que a cobertura para uma classe seja maior que 1−𝛼 e para a outra seja menor, mas em média a cobertura é 1 − 𝛼 (cobertura marginal alcançada).\n",
    "\n",
    "Se você deseja que o previsor conforme também alcance a garantia de cobertura para grupos de dados, ou mesmo para qualquer ponto no espaço de features, falamos de cobertura condicional.\n",
    "\n",
    "- Cobertura Marginal: significa que, em média, 1−𝛼 das regiões previstas contêm o rótulo verdadeiro para novas amostras de dados. Todos os preditores conformes garantem cobertura marginal. A cobertura marginal pode ser estimada como a porcentagem de conjuntos de previsão que cobrem a verdadeira classe para um novo conjunto de dados (que pode ser trocado com o conjunto de calibração).\n",
    "\n",
    "- Cobertura Condicional: significa que a cobertura de 1 − 𝛼 não é apenas verdadeira em média, mas também condicional a algum tipo de agrupamento dos dados. A cobertura condicional perfeita (dividida para cada ponto de dados) não pode ser garantida, apenas tentada. Já obter cobertura condicional para grupos definidos é possível."
   ]
  },
  {
   "cell_type": "code",
   "execution_count": 27,
   "metadata": {},
   "outputs": [
    {
     "name": "stdout",
     "output_type": "stream",
     "text": [
      "      class  coverage  avg. set size\n",
      "0  BARBUNYA     0.966          2.247\n",
      "1    BOMBAY     1.000          1.000\n",
      "2      CALI     0.961          2.157\n",
      "3  DERMASON     0.958          1.625\n",
      "4     HOROZ     0.905          2.104\n",
      "5     SEKER     0.973          2.416\n",
      "6      SIRA     0.955          2.314\n"
     ]
    }
   ],
   "source": [
    "def class_wise_performance(y_new, y_set, classes):\n",
    "    df = pd.DataFrame()\n",
    "    # Loop through the classes\n",
    "    for i in range(len(classes)):  \n",
    "        # Calculate the coverage and set size for the current class\n",
    "        ynew = y_new[y_new == i]\n",
    "        yscore = y_set[y_new == i]\n",
    "        cov = classification_coverage_score(ynew, yscore)\n",
    "        size = classification_mean_width_score(yscore)\n",
    "        # Create a new dataframe with the calculated values\n",
    "        temp_df = pd.DataFrame({\n",
    "            \"class\": [classes[i]],\n",
    "            \"coverage\": [cov],\n",
    "            \"avg. set size\": [size]\n",
    "            }, index = [i])\n",
    "        # Concatenate the new dataframe with the existing one\n",
    "        df = pd.concat([df, temp_df])\n",
    "    return(df)\n",
    "\n",
    "# We can apply this function to our new data and the corresponding prediction sets\n",
    "print(class_wise_performance(y_new, y_set, le.classes_))"
   ]
  },
  {
   "cell_type": "markdown",
   "metadata": {},
   "source": [
    "A variedade de feijão “Barbunya” tem a menor cobertura com cerca de 92,53%. Em suma, não parece tão ruim, mas é claro que isso pode mudar sempre que um novo modelo for treinado.\n",
    "\n",
    "Já os feijões “Bombay” tem uma cobertura de 100%, e isso ocorre pois, se olharmos a matriz de confusão, essa variedade foi a mais fácil de classificar."
   ]
  },
  {
   "attachments": {},
   "cell_type": "markdown",
   "metadata": {},
   "source": [
    "# ----------------------------------------------------------------"
   ]
  }
 ],
 "metadata": {
  "kernelspec": {
   "display_name": "cp-101-venv",
   "language": "python",
   "name": "python3"
  },
  "language_info": {
   "codemirror_mode": {
    "name": "ipython",
    "version": 3
   },
   "file_extension": ".py",
   "mimetype": "text/x-python",
   "name": "python",
   "nbconvert_exporter": "python",
   "pygments_lexer": "ipython3",
   "version": "3.10.11"
  },
  "orig_nbformat": 4
 },
 "nbformat": 4,
 "nbformat_minor": 2
}
